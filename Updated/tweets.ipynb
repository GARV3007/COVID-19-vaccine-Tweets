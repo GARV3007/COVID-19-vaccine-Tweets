{
 "cells": [
  {
   "cell_type": "markdown",
   "metadata": {},
   "source": [
    "### Sentiment Analysis of COVID-19 Vaccine Tweets\n",
    "Gourav Verma<br>\n",
    "DSC-680 T302, Spring 21<br>\n",
    "Prof Fadi Alsaleem"
   ]
  },
  {
   "cell_type": "code",
   "execution_count": 1,
   "metadata": {},
   "outputs": [
    {
     "name": "stderr",
     "output_type": "stream",
     "text": [
      "C:\\Users\\goura\\Anaconda3\\lib\\site-packages\\gensim\\similarities\\__init__.py:15: UserWarning: The gensim.similarities.levenshtein submodule is disabled, because the optional Levenshtein package <https://pypi.org/project/python-Levenshtein/> is unavailable. Install Levenhstein (e.g. `pip install python-Levenshtein`) to suppress this warning.\n",
      "  warnings.warn(msg)\n"
     ]
    }
   ],
   "source": [
    "# Import important libraries\n",
    "import requests\n",
    "import pandas as pd\n",
    "import numpy as np\n",
    "import matplotlib.pyplot as plt\n",
    "import plotly.express as px\n",
    "import plotly as pl\n",
    "import re\n",
    "import datetime\n",
    "\n",
    "import nltk\n",
    "from nltk.corpus import wordnet\n",
    "from nltk.stem import WordNetLemmatizer\n",
    "from nltk.stem import LancasterStemmer\n",
    "from nltk.tokenize.treebank import TreebankWordDetokenizer\n",
    "from collections import Counter\n",
    "from wordcloud import WordCloud\n",
    "from nltk.corpus import stopwords\n",
    "import gensim\n",
    "from gensim.utils import simple_preprocess\n",
    "from sklearn.model_selection import train_test_split\n",
    "#import spacy\n",
    "import pickle\n",
    "\n",
    "import tensorflow as tf\n",
    "import keras\n",
    "from keras.utils.vis_utils import plot_model\n",
    "\n",
    "import seaborn as sns\n",
    "from sklearn.metrics import confusion_matrix\n",
    "\n",
    "import warnings\n",
    "warnings.filterwarnings('ignore')\n",
    "warnings.simplefilter(action='ignore', category=FutureWarning)"
   ]
  },
  {
   "cell_type": "markdown",
   "metadata": {},
   "source": [
    "### Read COVID-19 Vaccine Tweets dataset"
   ]
  },
  {
   "cell_type": "code",
   "execution_count": 2,
   "metadata": {},
   "outputs": [
    {
     "data": {
      "text/html": [
       "<div>\n",
       "<style scoped>\n",
       "    .dataframe tbody tr th:only-of-type {\n",
       "        vertical-align: middle;\n",
       "    }\n",
       "\n",
       "    .dataframe tbody tr th {\n",
       "        vertical-align: top;\n",
       "    }\n",
       "\n",
       "    .dataframe thead th {\n",
       "        text-align: right;\n",
       "    }\n",
       "</style>\n",
       "<table border=\"1\" class=\"dataframe\">\n",
       "  <thead>\n",
       "    <tr style=\"text-align: right;\">\n",
       "      <th></th>\n",
       "      <th>index</th>\n",
       "      <th>created_at</th>\n",
       "      <th>text</th>\n",
       "    </tr>\n",
       "  </thead>\n",
       "  <tbody>\n",
       "    <tr>\n",
       "      <th>0</th>\n",
       "      <td>3</td>\n",
       "      <td>Sat Oct 31 23:59:58 +0000 2020</td>\n",
       "      <td>@realDonaldTrump Trump was right again! Hydrox...</td>\n",
       "    </tr>\n",
       "    <tr>\n",
       "      <th>1</th>\n",
       "      <td>10</td>\n",
       "      <td>Sun Nov 01 00:00:02 +0000 2020</td>\n",
       "      <td>@G_Shimer @BudGothmog44 Remdesivir has been si...</td>\n",
       "    </tr>\n",
       "    <tr>\n",
       "      <th>2</th>\n",
       "      <td>12</td>\n",
       "      <td>Sun Nov 01 00:00:04 +0000 2020</td>\n",
       "      <td>The 'silver bullet' for coronavirus might one ...</td>\n",
       "    </tr>\n",
       "    <tr>\n",
       "      <th>3</th>\n",
       "      <td>13</td>\n",
       "      <td>Sun Nov 01 00:00:05 +0000 2020</td>\n",
       "      <td>@Bitflick @btcdgb @celtasia @PeterMcCormack Pe...</td>\n",
       "    </tr>\n",
       "    <tr>\n",
       "      <th>4</th>\n",
       "      <td>18</td>\n",
       "      <td>Sun Nov 01 00:00:06 +0000 2020</td>\n",
       "      <td>Why on Earth would the American people be bett...</td>\n",
       "    </tr>\n",
       "  </tbody>\n",
       "</table>\n",
       "</div>"
      ],
      "text/plain": [
       "   index                      created_at  \\\n",
       "0      3  Sat Oct 31 23:59:58 +0000 2020   \n",
       "1     10  Sun Nov 01 00:00:02 +0000 2020   \n",
       "2     12  Sun Nov 01 00:00:04 +0000 2020   \n",
       "3     13  Sun Nov 01 00:00:05 +0000 2020   \n",
       "4     18  Sun Nov 01 00:00:06 +0000 2020   \n",
       "\n",
       "                                                text  \n",
       "0  @realDonaldTrump Trump was right again! Hydrox...  \n",
       "1  @G_Shimer @BudGothmog44 Remdesivir has been si...  \n",
       "2  The 'silver bullet' for coronavirus might one ...  \n",
       "3  @Bitflick @btcdgb @celtasia @PeterMcCormack Pe...  \n",
       "4  Why on Earth would the American people be bett...  "
      ]
     },
     "execution_count": 2,
     "metadata": {},
     "output_type": "execute_result"
    }
   ],
   "source": [
    "# Read the data\n",
    "#raw_df = pd.read_csv(\"vaccination_all_tweets.csv\")\n",
    "\n",
    "raw_df = pd.read_csv(\"vaccine_all_en_noretweets.csv\")\n",
    "raw_df.head()"
   ]
  },
  {
   "cell_type": "code",
   "execution_count": 4,
   "metadata": {},
   "outputs": [],
   "source": [
    "raw_df = raw_df.drop('index', axis=1)"
   ]
  },
  {
   "cell_type": "code",
   "execution_count": 5,
   "metadata": {},
   "outputs": [
    {
     "name": "stdout",
     "output_type": "stream",
     "text": [
      "<class 'pandas.core.frame.DataFrame'>\n",
      "RangeIndex: 6704661 entries, 0 to 6704660\n",
      "Data columns (total 2 columns):\n",
      " #   Column      Dtype \n",
      "---  ------      ----- \n",
      " 0   created_at  object\n",
      " 1   text        object\n",
      "dtypes: object(2)\n",
      "memory usage: 102.3+ MB\n"
     ]
    }
   ],
   "source": [
    "raw_df.info()"
   ]
  },
  {
   "cell_type": "code",
   "execution_count": 6,
   "metadata": {},
   "outputs": [],
   "source": [
    "df_sample = raw_df.sample(frac=0.1, random_state=1)"
   ]
  },
  {
   "cell_type": "code",
   "execution_count": 7,
   "metadata": {},
   "outputs": [
    {
     "name": "stdout",
     "output_type": "stream",
     "text": [
      "<class 'pandas.core.frame.DataFrame'>\n",
      "Int64Index: 670466 entries, 3149017 to 4827673\n",
      "Data columns (total 2 columns):\n",
      " #   Column      Non-Null Count   Dtype \n",
      "---  ------      --------------   ----- \n",
      " 0   created_at  670466 non-null  object\n",
      " 1   text        670466 non-null  object\n",
      "dtypes: object(2)\n",
      "memory usage: 15.3+ MB\n"
     ]
    }
   ],
   "source": [
    "df_sample.info()"
   ]
  },
  {
   "cell_type": "markdown",
   "metadata": {},
   "source": [
    "## Sentiment Analysis"
   ]
  },
  {
   "cell_type": "markdown",
   "metadata": {},
   "source": [
    "### Read train dataset for tweets\n",
    "Downloaded from: https://www.kaggle.com/c/tweet-sentiment-extraction <br>\n",
    "We will use if only to train our model. Not for sentiment analysis"
   ]
  },
  {
   "cell_type": "code",
   "execution_count": 8,
   "metadata": {},
   "outputs": [],
   "source": [
    "tweet_train = pd.read_csv(\"train.csv\")"
   ]
  },
  {
   "cell_type": "code",
   "execution_count": 9,
   "metadata": {},
   "outputs": [
    {
     "data": {
      "text/html": [
       "<div>\n",
       "<style scoped>\n",
       "    .dataframe tbody tr th:only-of-type {\n",
       "        vertical-align: middle;\n",
       "    }\n",
       "\n",
       "    .dataframe tbody tr th {\n",
       "        vertical-align: top;\n",
       "    }\n",
       "\n",
       "    .dataframe thead th {\n",
       "        text-align: right;\n",
       "    }\n",
       "</style>\n",
       "<table border=\"1\" class=\"dataframe\">\n",
       "  <thead>\n",
       "    <tr style=\"text-align: right;\">\n",
       "      <th></th>\n",
       "      <th>textID</th>\n",
       "      <th>text</th>\n",
       "      <th>selected_text</th>\n",
       "      <th>sentiment</th>\n",
       "    </tr>\n",
       "  </thead>\n",
       "  <tbody>\n",
       "    <tr>\n",
       "      <th>0</th>\n",
       "      <td>cb774db0d1</td>\n",
       "      <td>I`d have responded, if I were going</td>\n",
       "      <td>I`d have responded, if I were going</td>\n",
       "      <td>neutral</td>\n",
       "    </tr>\n",
       "    <tr>\n",
       "      <th>1</th>\n",
       "      <td>549e992a42</td>\n",
       "      <td>Sooo SAD I will miss you here in San Diego!!!</td>\n",
       "      <td>Sooo SAD</td>\n",
       "      <td>negative</td>\n",
       "    </tr>\n",
       "    <tr>\n",
       "      <th>2</th>\n",
       "      <td>088c60f138</td>\n",
       "      <td>my boss is bullying me...</td>\n",
       "      <td>bullying me</td>\n",
       "      <td>negative</td>\n",
       "    </tr>\n",
       "    <tr>\n",
       "      <th>3</th>\n",
       "      <td>9642c003ef</td>\n",
       "      <td>what interview! leave me alone</td>\n",
       "      <td>leave me alone</td>\n",
       "      <td>negative</td>\n",
       "    </tr>\n",
       "    <tr>\n",
       "      <th>4</th>\n",
       "      <td>358bd9e861</td>\n",
       "      <td>Sons of ****, why couldn`t they put them on t...</td>\n",
       "      <td>Sons of ****,</td>\n",
       "      <td>negative</td>\n",
       "    </tr>\n",
       "  </tbody>\n",
       "</table>\n",
       "</div>"
      ],
      "text/plain": [
       "       textID                                               text  \\\n",
       "0  cb774db0d1                I`d have responded, if I were going   \n",
       "1  549e992a42      Sooo SAD I will miss you here in San Diego!!!   \n",
       "2  088c60f138                          my boss is bullying me...   \n",
       "3  9642c003ef                     what interview! leave me alone   \n",
       "4  358bd9e861   Sons of ****, why couldn`t they put them on t...   \n",
       "\n",
       "                         selected_text sentiment  \n",
       "0  I`d have responded, if I were going   neutral  \n",
       "1                             Sooo SAD  negative  \n",
       "2                          bullying me  negative  \n",
       "3                       leave me alone  negative  \n",
       "4                        Sons of ****,  negative  "
      ]
     },
     "execution_count": 9,
     "metadata": {},
     "output_type": "execute_result"
    }
   ],
   "source": [
    "tweet_train.head()"
   ]
  },
  {
   "cell_type": "code",
   "execution_count": 10,
   "metadata": {},
   "outputs": [
    {
     "data": {
      "text/plain": [
       "<AxesSubplot:>"
      ]
     },
     "execution_count": 10,
     "metadata": {},
     "output_type": "execute_result"
    },
    {
     "data": {
      "image/png": "[encoded data removed]",
      "text/plain": [
       "<Figure size 432x288 with 1 Axes>"
      ]
     },
     "metadata": {
      "needs_background": "light"
     },
     "output_type": "display_data"
    }
   ],
   "source": [
    "# Bar plot of sentiments\n",
    "fig, ax = plt.subplots()\n",
    "tweet_train['sentiment'].value_counts().plot(ax=ax, kind='bar')"
   ]
  },
  {
   "cell_type": "code",
   "execution_count": 11,
   "metadata": {},
   "outputs": [
    {
     "data": {
      "text/html": [
       "<div>\n",
       "<style scoped>\n",
       "    .dataframe tbody tr th:only-of-type {\n",
       "        vertical-align: middle;\n",
       "    }\n",
       "\n",
       "    .dataframe tbody tr th {\n",
       "        vertical-align: top;\n",
       "    }\n",
       "\n",
       "    .dataframe thead th {\n",
       "        text-align: right;\n",
       "    }\n",
       "</style>\n",
       "<table border=\"1\" class=\"dataframe\">\n",
       "  <thead>\n",
       "    <tr style=\"text-align: right;\">\n",
       "      <th></th>\n",
       "      <th>selected_text</th>\n",
       "      <th>sentiment</th>\n",
       "    </tr>\n",
       "  </thead>\n",
       "  <tbody>\n",
       "    <tr>\n",
       "      <th>0</th>\n",
       "      <td>I`d have responded, if I were going</td>\n",
       "      <td>neutral</td>\n",
       "    </tr>\n",
       "    <tr>\n",
       "      <th>1</th>\n",
       "      <td>Sooo SAD</td>\n",
       "      <td>negative</td>\n",
       "    </tr>\n",
       "    <tr>\n",
       "      <th>2</th>\n",
       "      <td>bullying me</td>\n",
       "      <td>negative</td>\n",
       "    </tr>\n",
       "    <tr>\n",
       "      <th>3</th>\n",
       "      <td>leave me alone</td>\n",
       "      <td>negative</td>\n",
       "    </tr>\n",
       "    <tr>\n",
       "      <th>4</th>\n",
       "      <td>Sons of ****,</td>\n",
       "      <td>negative</td>\n",
       "    </tr>\n",
       "  </tbody>\n",
       "</table>\n",
       "</div>"
      ],
      "text/plain": [
       "                         selected_text sentiment\n",
       "0  I`d have responded, if I were going   neutral\n",
       "1                             Sooo SAD  negative\n",
       "2                          bullying me  negative\n",
       "3                       leave me alone  negative\n",
       "4                        Sons of ****,  negative"
      ]
     },
     "execution_count": 11,
     "metadata": {},
     "output_type": "execute_result"
    }
   ],
   "source": [
    "# Remove unnecessary columns\n",
    "tweet_train = tweet_train.drop(['textID', 'text'], axis=1)\n",
    "tweet_train.head()"
   ]
  },
  {
   "cell_type": "code",
   "execution_count": 12,
   "metadata": {},
   "outputs": [
    {
     "name": "stdout",
     "output_type": "stream",
     "text": [
      "<class 'pandas.core.frame.DataFrame'>\n",
      "RangeIndex: 27481 entries, 0 to 27480\n",
      "Data columns (total 2 columns):\n",
      " #   Column         Non-Null Count  Dtype \n",
      "---  ------         --------------  ----- \n",
      " 0   selected_text  27480 non-null  object\n",
      " 1   sentiment      27481 non-null  object\n",
      "dtypes: object(2)\n",
      "memory usage: 429.5+ KB\n"
     ]
    }
   ],
   "source": [
    "tweet_train.info()"
   ]
  },
  {
   "cell_type": "code",
   "execution_count": 13,
   "metadata": {},
   "outputs": [
    {
     "name": "stdout",
     "output_type": "stream",
     "text": [
      "<class 'pandas.core.frame.DataFrame'>\n",
      "Int64Index: 27480 entries, 0 to 27480\n",
      "Data columns (total 2 columns):\n",
      " #   Column         Non-Null Count  Dtype \n",
      "---  ------         --------------  ----- \n",
      " 0   selected_text  27480 non-null  object\n",
      " 1   sentiment      27480 non-null  object\n",
      "dtypes: object(2)\n",
      "memory usage: 644.1+ KB\n"
     ]
    }
   ],
   "source": [
    "# Drop null rows with null\n",
    "tweet_train = tweet_train.dropna()\n",
    "tweet_train.info()"
   ]
  },
  {
   "cell_type": "markdown",
   "metadata": {},
   "source": [
    "### Data Cleaning"
   ]
  },
  {
   "cell_type": "code",
   "execution_count": 14,
   "metadata": {},
   "outputs": [],
   "source": [
    "def data_cleaning(text):\n",
    "    \"\"\"\n",
    "    Function to perform below tasks:\n",
    "    - Remove URL\n",
    "    - Remove emails\n",
    "    - Remove newline characters\n",
    "    - Remove single quotes\n",
    "    \"\"\"\n",
    "    # Remove URLs\n",
    "    url = re.compile(r'https?://\\S+|www\\.\\S+')\n",
    "    textc = url.sub(r'', text)\n",
    "    \n",
    "    # Remove Emails\n",
    "    textc = re.sub('\\S*@\\S*\\s?', '', textc)\n",
    "    \n",
    "    # Remove newline\n",
    "    textc = re.sub('\\s+', ' ', textc)\n",
    "    \n",
    "    # Remove single quotes\n",
    "    textc = re.sub(\"\\'\", \"\", textc)\n",
    "    \n",
    "    return textc"
   ]
  },
  {
   "cell_type": "code",
   "execution_count": 15,
   "metadata": {},
   "outputs": [
    {
     "data": {
      "text/plain": [
       "[' - some shameless plugging for the best Rangers forum on earth',\n",
       " 'fun',\n",
       " 'Soooo high',\n",
       " 'Both of you',\n",
       " 'Wow... u just became cooler.',\n",
       " 'as much as i love to be hopeful, i reckon the chances are minimal =P i`m never gonna get my cake and stuff',\n",
       " 'like',\n",
       " 'DANGERously',\n",
       " 'lost',\n",
       " 'test test from the LG enV2']"
      ]
     },
     "execution_count": 15,
     "metadata": {},
     "output_type": "execute_result"
    }
   ],
   "source": [
    "text_list=[]\n",
    "\n",
    "# Split selected_text to list\n",
    "df_list = tweet_train['selected_text'].values.tolist()\n",
    "\n",
    "# Clean the texts\n",
    "for t in range(len(df_list)):\n",
    "    text_list.append(data_cleaning(df_list[t]))\n",
    "\n",
    "list(text_list[5:15])"
   ]
  },
  {
   "cell_type": "code",
   "execution_count": 16,
   "metadata": {},
   "outputs": [
    {
     "name": "stdout",
     "output_type": "stream",
     "text": [
      "[['some', 'shameless', 'plugging', 'for', 'the', 'best', 'rangers', 'forum', 'on', 'earth'], ['fun'], ['soooo', 'high'], ['both', 'of', 'you'], ['wow', 'just', 'became', 'cooler'], ['as', 'much', 'as', 'love', 'to', 'be', 'hopeful', 'reckon', 'the', 'chances', 'are', 'minimal', 'never', 'gonna', 'get', 'my', 'cake', 'and', 'stuff'], ['like'], ['dangerously'], ['lost'], ['test', 'test', 'from', 'the', 'lg', 'env']]\n"
     ]
    }
   ],
   "source": [
    "def data_word(sent):\n",
    "    \"\"\"\n",
    "    Function to split sentences to words \n",
    "    \"\"\"\n",
    "    for s in sent:\n",
    "        yield(gensim.utils.simple_preprocess(str(s), deacc=True))\n",
    "    \n",
    "    return\n",
    "\n",
    "text_word = list(data_word(text_list))\n",
    "\n",
    "print(text_word[5:15])"
   ]
  },
  {
   "cell_type": "markdown",
   "metadata": {},
   "source": [
    "### Detokenization"
   ]
  },
  {
   "cell_type": "code",
   "execution_count": 17,
   "metadata": {},
   "outputs": [
    {
     "name": "stdout",
     "output_type": "stream",
     "text": [
      "['some shameless plugging for the best rangers forum on earth', 'fun', 'soooo high', 'both of you', 'wow just became cooler', 'as much as love to be hopeful reckon the chances are minimal never gonna get my cake and stuff', 'like', 'dangerously', 'lost', 'test test from the lg env']\n"
     ]
    }
   ],
   "source": [
    "def detok(text_word):\n",
    "    return \n",
    "\n",
    "text_detok = []\n",
    "\n",
    "for i in range(len(text_word)):\n",
    "    text_detok.append(TreebankWordDetokenizer().detokenize(text_word[i]))\n",
    "\n",
    "\n",
    "print(text_detok[5:15])"
   ]
  },
  {
   "cell_type": "code",
   "execution_count": 18,
   "metadata": {},
   "outputs": [],
   "source": [
    "# Convert detokenized text to array\n",
    "text_ar = np.array(text_detok)"
   ]
  },
  {
   "cell_type": "markdown",
   "metadata": {},
   "source": [
    "### Label Encoding"
   ]
  },
  {
   "cell_type": "code",
   "execution_count": 19,
   "metadata": {},
   "outputs": [
    {
     "data": {
      "text/plain": [
       "array([[1., 0., 0.],\n",
       "       [0., 1., 0.],\n",
       "       [0., 1., 0.],\n",
       "       ...,\n",
       "       [0., 0., 1.],\n",
       "       [0., 0., 1.],\n",
       "       [1., 0., 0.]], dtype=float32)"
      ]
     },
     "execution_count": 19,
     "metadata": {},
     "output_type": "execute_result"
    }
   ],
   "source": [
    "# Convert categorical values to float\n",
    "\n",
    "label = np.array(tweet_train['sentiment'])\n",
    "num = []\n",
    "for i in range(len(label)):\n",
    "    if label[i] == 'neutral':\n",
    "        num.append(0)\n",
    "    if label[i] == 'negative':\n",
    "        num.append(1)\n",
    "    if label[i] == 'positive':\n",
    "        num.append(2)\n",
    "\n",
    "num = np.array(num)\n",
    "\n",
    "label = tf.keras.utils.to_categorical(num, 3, dtype=\"float32\")\n",
    "label"
   ]
  },
  {
   "cell_type": "markdown",
   "metadata": {},
   "source": [
    "### Sequencing and Splitting"
   ]
  },
  {
   "cell_type": "code",
   "execution_count": 20,
   "metadata": {},
   "outputs": [],
   "source": [
    "from keras.models import Sequential\n",
    "from keras import layers\n",
    "from keras.optimizers import RMSprop,Adam\n",
    "from keras.preprocessing.text import Tokenizer\n",
    "from keras.preprocessing.sequence import pad_sequences\n",
    "from keras import regularizers\n",
    "from keras import backend as K\n",
    "from keras.callbacks import ModelCheckpoint"
   ]
  },
  {
   "cell_type": "code",
   "execution_count": 21,
   "metadata": {},
   "outputs": [
    {
     "name": "stdout",
     "output_type": "stream",
     "text": [
      "[[   0    0    0 ...   68  146   41]\n",
      " [   0    0    0 ...    0  397   65]\n",
      " [   0    0    0 ...    0    0   11]\n",
      " ...\n",
      " [   0    0    0 ...  372   10    3]\n",
      " [   0    0    0 ...   24  542    4]\n",
      " [   0    0    0 ... 2424  199  657]]\n"
     ]
    }
   ],
   "source": [
    "max_words = 5000\n",
    "max_len = 200\n",
    "\n",
    "tokenize = Tokenizer(num_words=max_words)\n",
    "tokenize.fit_on_texts(text_ar)\n",
    "seq = tokenize.texts_to_sequences(text_ar)\n",
    "tweet = pad_sequences(seq, maxlen=max_len)\n",
    "print(tweet)"
   ]
  },
  {
   "cell_type": "markdown",
   "metadata": {},
   "source": [
    "### Model Building"
   ]
  },
  {
   "cell_type": "code",
   "execution_count": 22,
   "metadata": {},
   "outputs": [
    {
     "name": "stdout",
     "output_type": "stream",
     "text": [
      "20610 6870 20610 6870\n"
     ]
    }
   ],
   "source": [
    "# Split the data\n",
    "\n",
    "X_train, X_test, y_train, y_test = train_test_split(tweet,label, random_state=0)\n",
    "print (len(X_train),len(X_test),len(y_train),len(y_test))"
   ]
  },
  {
   "cell_type": "markdown",
   "metadata": {},
   "source": [
    "#### Single LSTM"
   ]
  },
  {
   "cell_type": "code",
   "execution_count": 23,
   "metadata": {},
   "outputs": [
    {
     "name": "stdout",
     "output_type": "stream",
     "text": [
      "WARNING:tensorflow:`period` argument is deprecated. Please use `save_freq` to specify the frequency in number of batches seen.\n",
      "645/645 [==============================] - 39s 57ms/step - loss: 0.8987 - accuracy: 0.6008 - val_loss: 0.6206 - val_accuracy: 0.7504\n",
      "\n",
      "Epoch 00001: val_accuracy improved from -inf to 0.75036, saving model to mod1.hdf5\n"
     ]
    }
   ],
   "source": [
    "mod1 = Sequential()\n",
    "mod1.add(layers.Embedding(max_words, 20))\n",
    "mod1.add(layers.LSTM(15, dropout=0.5))\n",
    "mod1.add(layers.Dense(3, activation='softmax'))\n",
    "\n",
    "mod1.compile(optimizer='rmsprop', loss='categorical_crossentropy', metrics=['accuracy'])\n",
    "\n",
    "ckpt1 = ModelCheckpoint('mod1.hdf5', monitor='val_accuracy', verbose=1, save_best_only=True, mode='auto', \n",
    "                       period=1, save_weights_only=False)\n",
    "\n",
    "hist = mod1.fit(X_train, y_train, epochs=1, validation_data=(X_test, y_test), callbacks=[ckpt1])"
   ]
  },
  {
   "cell_type": "code",
   "execution_count": 24,
   "metadata": {},
   "outputs": [
    {
     "name": "stdout",
     "output_type": "stream",
     "text": [
      "Model: \"sequential\"\n",
      "_________________________________________________________________\n",
      "Layer (type)                 Output Shape              Param #   \n",
      "=================================================================\n",
      "embedding (Embedding)        (None, None, 20)          100000    \n",
      "_________________________________________________________________\n",
      "lstm (LSTM)                  (None, 15)                2160      \n",
      "_________________________________________________________________\n",
      "dense (Dense)                (None, 3)                 48        \n",
      "=================================================================\n",
      "Total params: 102,208\n",
      "Trainable params: 102,208\n",
      "Non-trainable params: 0\n",
      "_________________________________________________________________\n"
     ]
    }
   ],
   "source": [
    "mod1.summary()"
   ]
  },
  {
   "cell_type": "markdown",
   "metadata": {},
   "source": [
    "#### Bidirectional LSTM"
   ]
  },
  {
   "cell_type": "code",
   "execution_count": 25,
   "metadata": {},
   "outputs": [
    {
     "name": "stdout",
     "output_type": "stream",
     "text": [
      "WARNING:tensorflow:`period` argument is deprecated. Please use `save_freq` to specify the frequency in number of batches seen.\n",
      "645/645 [==============================] - 48s 71ms/step - loss: 0.8841 - accuracy: 0.5878 - val_loss: 0.6427 - val_accuracy: 0.7444\n",
      "\n",
      "Epoch 00001: val_accuracy improved from -inf to 0.74440, saving model to mod2.hdf5\n"
     ]
    }
   ],
   "source": [
    "mod2 = Sequential()\n",
    "mod2.add(layers.Embedding(max_words, 40, input_length=max_len))\n",
    "mod2.add(layers.Bidirectional(layers.LSTM(20, dropout=0.6)))\n",
    "mod2.add(layers.Dense(3, activation='softmax'))\n",
    "mod2.compile(optimizer='rmsprop', loss='categorical_crossentropy', metrics=['accuracy'])\n",
    "\n",
    "ckpt2 = ModelCheckpoint('mod2.hdf5', monitor='val_accuracy', verbose=1, save_best_only=True, mode='auto', \n",
    "                       period=1, save_weights_only=False)\n",
    "\n",
    "hist = mod2.fit(X_train, y_train, epochs=1, validation_data=(X_test, y_test), callbacks=[ckpt2])"
   ]
  },
  {
   "cell_type": "code",
   "execution_count": 26,
   "metadata": {},
   "outputs": [
    {
     "name": "stdout",
     "output_type": "stream",
     "text": [
      "Model: \"sequential_1\"\n",
      "_________________________________________________________________\n",
      "Layer (type)                 Output Shape              Param #   \n",
      "=================================================================\n",
      "embedding_1 (Embedding)      (None, 200, 40)           200000    \n",
      "_________________________________________________________________\n",
      "bidirectional (Bidirectional (None, 40)                9760      \n",
      "_________________________________________________________________\n",
      "dense_1 (Dense)              (None, 3)                 123       \n",
      "=================================================================\n",
      "Total params: 209,883\n",
      "Trainable params: 209,883\n",
      "Non-trainable params: 0\n",
      "_________________________________________________________________\n"
     ]
    }
   ],
   "source": [
    "mod2.summary()"
   ]
  },
  {
   "cell_type": "markdown",
   "metadata": {},
   "source": [
    "#### 1D CNN"
   ]
  },
  {
   "cell_type": "code",
   "execution_count": 27,
   "metadata": {},
   "outputs": [
    {
     "name": "stdout",
     "output_type": "stream",
     "text": [
      "WARNING:tensorflow:`period` argument is deprecated. Please use `save_freq` to specify the frequency in number of batches seen.\n",
      "645/645 [==============================] - 7s 10ms/step - loss: 1.2771 - acc: 0.4676 - val_loss: 0.9023 - val_acc: 0.6102\n",
      "WARNING:tensorflow:Can save best model only with val_accuracy available, skipping.\n"
     ]
    }
   ],
   "source": [
    "mod3 = Sequential()\n",
    "mod3.add(layers.Embedding(max_words, 40, input_length=max_len))\n",
    "mod3.add(layers.Conv1D(20, 6, activation='relu', kernel_regularizer=regularizers.l1_l2(l1=2e-3, l2=2e-3), \n",
    "                       bias_regularizer=regularizers.l2(2e-3)))\n",
    "mod3.add(layers.MaxPooling1D(5))\n",
    "mod3.add(layers.Conv1D(20, 6, activation='relu', kernel_regularizer=regularizers.l1_l2(l1=2e-3, l2=2e-3), \n",
    "                       bias_regularizer=regularizers.l2(2e-3)))\n",
    "mod3.add(layers.GlobalMaxPooling1D())\n",
    "mod3.add(layers.Dense(3, activation='softmax'))\n",
    "mod3.compile(optimizer='rmsprop', loss='categorical_crossentropy', metrics=['acc'])\n",
    "\n",
    "ckpt3 = ModelCheckpoint('mod3.hdf5', monitor='val_accuracy', verbose=1, save_best_only=True, mode='auto', \n",
    "                       period=1, save_weights_only=False)\n",
    "\n",
    "hist = mod3.fit(X_train, y_train, epochs=1, validation_data=(X_test, y_test), callbacks=[ckpt3])"
   ]
  },
  {
   "cell_type": "code",
   "execution_count": 28,
   "metadata": {},
   "outputs": [
    {
     "name": "stdout",
     "output_type": "stream",
     "text": [
      "Model: \"sequential_2\"\n",
      "_________________________________________________________________\n",
      "Layer (type)                 Output Shape              Param #   \n",
      "=================================================================\n",
      "embedding_2 (Embedding)      (None, 200, 40)           200000    \n",
      "_________________________________________________________________\n",
      "conv1d (Conv1D)              (None, 195, 20)           4820      \n",
      "_________________________________________________________________\n",
      "max_pooling1d (MaxPooling1D) (None, 39, 20)            0         \n",
      "_________________________________________________________________\n",
      "conv1d_1 (Conv1D)            (None, 34, 20)            2420      \n",
      "_________________________________________________________________\n",
      "global_max_pooling1d (Global (None, 20)                0         \n",
      "_________________________________________________________________\n",
      "dense_2 (Dense)              (None, 3)                 63        \n",
      "=================================================================\n",
      "Total params: 207,303\n",
      "Trainable params: 207,303\n",
      "Non-trainable params: 0\n",
      "_________________________________________________________________\n"
     ]
    }
   ],
   "source": [
    "mod3.summary()"
   ]
  },
  {
   "cell_type": "markdown",
   "metadata": {},
   "source": [
    "**We can see that Bidirectional RNN model showed highest accuracy. Lets validate the model.**"
   ]
  },
  {
   "cell_type": "code",
   "execution_count": 29,
   "metadata": {},
   "outputs": [],
   "source": [
    "predict=mod2.predict(X_test)"
   ]
  },
  {
   "cell_type": "code",
   "execution_count": 30,
   "metadata": {},
   "outputs": [
    {
     "data": {
      "text/plain": [
       "<AxesSubplot:>"
      ]
     },
     "execution_count": 30,
     "metadata": {},
     "output_type": "execute_result"
    },
    {
     "data": {
      "image/png": "[encoded data removed]",
      "text/plain": [
       "<Figure size 432x288 with 2 Axes>"
      ]
     },
     "metadata": {
      "needs_background": "light"
     },
     "output_type": "display_data"
    }
   ],
   "source": [
    "# Plot confusion matrix\n",
    "\n",
    "c = confusion_matrix(y_test.argmax(axis=1), np.around(predict, decimals=0).argmax(axis=1))\n",
    "matrix = pd.DataFrame(c, index=['Neutral', 'Negative', 'Positive'], columns=['Neutral', 'Negative', 'Positive'])\n",
    "\n",
    "matrix = matrix.astype('float')/matrix.sum(axis=1)[:, np.newaxis]\n",
    "\n",
    "sns.heatmap(matrix, annot=True, annot_kws={\"size\": 15})\n"
   ]
  },
  {
   "cell_type": "markdown",
   "metadata": {},
   "source": [
    "### Sentiment analysis on COVID-19 Tweet Dataset"
   ]
  },
  {
   "cell_type": "code",
   "execution_count": 31,
   "metadata": {},
   "outputs": [
    {
     "name": "stdout",
     "output_type": "stream",
     "text": [
      "<class 'pandas.core.frame.DataFrame'>\n",
      "Int64Index: 670466 entries, 3149017 to 4827673\n",
      "Data columns (total 2 columns):\n",
      " #   Column      Non-Null Count   Dtype \n",
      "---  ------      --------------   ----- \n",
      " 0   created_at  670466 non-null  object\n",
      " 1   text        670466 non-null  object\n",
      "dtypes: object(2)\n",
      "memory usage: 15.3+ MB\n"
     ]
    }
   ],
   "source": [
    "df_sample.info()"
   ]
  },
  {
   "cell_type": "code",
   "execution_count": 32,
   "metadata": {},
   "outputs": [
    {
     "data": {
      "text/plain": [
       "['Would love if when you went to get a Covid vaccine, someone would be there. \"Welp, looks like on October 21, you said on Facebook that it was all a hoax and the vaccine was toxic\". Back of the line. Sorry.',\n",
       " 'Petition: Prioritise teachers, school and childcare staff for Covid-19 vaccination ',\n",
       " 'China kept deceiving the world &amp; its own people that the virus is not human transferrable till Jan 20 while secretly started developing vaccines on Jan 4. Click the below image for details. ',\n",
       " 'via #InternationalNews #Coronaviruspandemic #Health China prepares large-scale rollout of coronavirus vaccines: 2020-12-06 04:21:24 In this Sept. 24, 2020, file photo, syringes of SARS CoV-2 Vaccine for COVID-19 produced by Sinovac are… ',\n",
       " 'Just curious why 1 of third U.S military refusing covid19 vaccine? Or is this just some rumours ?',\n",
       " 'raising awareness for covid-19 vaccines! ',\n",
       " 'Same but I question my sanity if it takes another year. I just need a vaccine shot to feel at least a little safer. My physical health is better &amp; I had a Pneumonia shot in January so I probably wont die from #Covid19 but I refuse to be so careless as to get it from #Covidiots.',\n",
       " 'Trump claimed there is no Russian collusion- he was right, Trump claimed Obama spied on his campaign- he was right Trump claimed that there would be China covid vaccine before year end- he was right Trump claimed this election is rigged- he is right',\n",
       " 'How is a sitting US Senator allowed to violate executive orders on international travel? ',\n",
       " 'oh yea it’s a Australian COVID vaccine ad for no reason lol']"
      ]
     },
     "execution_count": 32,
     "metadata": {},
     "output_type": "execute_result"
    }
   ],
   "source": [
    "text_list=[]\n",
    "\n",
    "# Split selected_text to list\n",
    "df_list = df_sample['text'].values.tolist()\n",
    "\n",
    "# Clean the texts\n",
    "for t in range(len(df_list)):\n",
    "    text_list.append(data_cleaning(df_list[t]))\n",
    "\n",
    "list(text_list[5:15])"
   ]
  },
  {
   "cell_type": "code",
   "execution_count": 33,
   "metadata": {},
   "outputs": [
    {
     "data": {
      "text/plain": [
       "['Complaint against Mogoeng over COVID-19 vaccine comment escalated to JCC via ',\n",
       " '- #QOP is unfit to govern! Incredibly, after 4 years of ring kissing, enabling of Trumps American Carnage, silence during his deadly Covid negligence and witnessing VP Pence and Dems targeted by Trump for execution, not ONE vote for Simulus!! ',\n",
       " 'FDA just approved the covid vaccine too. while its in clinical trails. lol 2021, coming soon!',\n",
       " 'Covid-vaccines',\n",
       " 'Nigeria’s main priority is COVID-19 vaccine – VP Osinbajo ',\n",
       " 'Would love if when you went to get a Covid vaccine, someone would be there. \"Welp, looks like on October 21, you said on Facebook that it was all a hoax and the vaccine was toxic\". Back of the line. Sorry.',\n",
       " 'Petition: Prioritise teachers, school and childcare staff for Covid-19 vaccination ',\n",
       " 'China kept deceiving the world &amp; its own people that the virus is not human transferrable till Jan 20 while secretly started developing vaccines on Jan 4. Click the below image for details. ',\n",
       " 'via #InternationalNews #Coronaviruspandemic #Health China prepares large-scale rollout of coronavirus vaccines: 2020-12-06 04:21:24 In this Sept. 24, 2020, file photo, syringes of SARS CoV-2 Vaccine for COVID-19 produced by Sinovac are… ',\n",
       " 'Just curious why 1 of third U.S military refusing covid19 vaccine? Or is this just some rumours ?']"
      ]
     },
     "execution_count": 33,
     "metadata": {},
     "output_type": "execute_result"
    }
   ],
   "source": [
    "list(text_list[:10])"
   ]
  },
  {
   "cell_type": "code",
   "execution_count": 34,
   "metadata": {},
   "outputs": [
    {
     "name": "stdout",
     "output_type": "stream",
     "text": [
      "[['complaint', 'against', 'mogoeng', 'over', 'covid', 'vaccine', 'comment', 'escalated', 'to', 'jcc', 'via'], ['qop', 'is', 'unfit', 'to', 'govern', 'incredibly', 'after', 'years', 'of', 'ring', 'kissing', 'enabling', 'of', 'trumps', 'american', 'carnage', 'silence', 'during', 'his', 'deadly', 'covid', 'negligence', 'and', 'witnessing', 'vp', 'pence', 'and', 'dems', 'targeted', 'by', 'trump', 'for', 'execution', 'not', 'one', 'vote', 'for', 'simulus'], ['fda', 'just', 'approved', 'the', 'covid', 'vaccine', 'too', 'while', 'its', 'in', 'clinical', 'trails', 'lol', 'coming', 'soon'], ['covid', 'vaccines'], ['nigeria', 'main', 'priority', 'is', 'covid', 'vaccine', 'vp', 'osinbajo'], ['would', 'love', 'if', 'when', 'you', 'went', 'to', 'get', 'covid', 'vaccine', 'someone', 'would', 'be', 'there', 'welp', 'looks', 'like', 'on', 'october', 'you', 'said', 'on', 'facebook', 'that', 'it', 'was', 'all', 'hoax', 'and', 'the', 'vaccine', 'was', 'toxic', 'back', 'of', 'the', 'line', 'sorry'], ['petition', 'prioritise', 'teachers', 'school', 'and', 'childcare', 'staff', 'for', 'covid', 'vaccination'], ['china', 'kept', 'deceiving', 'the', 'world', 'amp', 'its', 'own', 'people', 'that', 'the', 'virus', 'is', 'not', 'human', 'transferrable', 'till', 'jan', 'while', 'secretly', 'started', 'developing', 'vaccines', 'on', 'jan', 'click', 'the', 'below', 'image', 'for', 'details'], ['via', 'health', 'china', 'prepares', 'large', 'scale', 'rollout', 'of', 'coronavirus', 'vaccines', 'in', 'this', 'sept', 'file', 'photo', 'syringes', 'of', 'sars', 'cov', 'vaccine', 'for', 'covid', 'produced', 'by', 'sinovac', 'are'], ['just', 'curious', 'why', 'of', 'third', 'military', 'refusing', 'covid', 'vaccine', 'or', 'is', 'this', 'just', 'some', 'rumours']]\n"
     ]
    }
   ],
   "source": [
    "text_word = list(data_word(text_list))\n",
    "\n",
    "print(text_word[0:10])"
   ]
  },
  {
   "cell_type": "markdown",
   "metadata": {},
   "source": [
    "### Detokenization"
   ]
  },
  {
   "cell_type": "code",
   "execution_count": 35,
   "metadata": {},
   "outputs": [
    {
     "name": "stdout",
     "output_type": "stream",
     "text": [
      "['complaint against mogoeng over covid vaccine comment escalated to jcc via', 'qop is unfit to govern incredibly after years of ring kissing enabling of trumps american carnage silence during his deadly covid negligence and witnessing vp pence and dems targeted by trump for execution not one vote for simulus', 'fda just approved the covid vaccine too while its in clinical trails lol coming soon', 'covid vaccines', 'nigeria main priority is covid vaccine vp osinbajo', 'would love if when you went to get covid vaccine someone would be there welp looks like on october you said on facebook that it was all hoax and the vaccine was toxic back of the line sorry', 'petition prioritise teachers school and childcare staff for covid vaccination', 'china kept deceiving the world amp its own people that the virus is not human transferrable till jan while secretly started developing vaccines on jan click the below image for details', 'via health china prepares large scale rollout of coronavirus vaccines in this sept file photo syringes of sars cov vaccine for covid produced by sinovac are', 'just curious why of third military refusing covid vaccine or is this just some rumours']\n"
     ]
    }
   ],
   "source": [
    "text_detok = []\n",
    "\n",
    "for i in range(len(text_word)):\n",
    "    text_detok.append(TreebankWordDetokenizer().detokenize(text_word[i]))\n",
    "\n",
    "\n",
    "print(text_detok[0:10])"
   ]
  },
  {
   "cell_type": "code",
   "execution_count": 36,
   "metadata": {},
   "outputs": [],
   "source": [
    "# Convert detokenized text to array\n",
    "text_ar = np.array(text_detok)"
   ]
  },
  {
   "cell_type": "markdown",
   "metadata": {},
   "source": [
    "### Add an empty sentiment column to the dataset"
   ]
  },
  {
   "cell_type": "code",
   "execution_count": 37,
   "metadata": {},
   "outputs": [],
   "source": [
    "df_sample[\"Sentiments\"] = np.nan"
   ]
  },
  {
   "cell_type": "code",
   "execution_count": 60,
   "metadata": {},
   "outputs": [
    {
     "data": {
      "text/html": [
       "<div>\n",
       "<style scoped>\n",
       "    .dataframe tbody tr th:only-of-type {\n",
       "        vertical-align: middle;\n",
       "    }\n",
       "\n",
       "    .dataframe tbody tr th {\n",
       "        vertical-align: top;\n",
       "    }\n",
       "\n",
       "    .dataframe thead th {\n",
       "        text-align: right;\n",
       "    }\n",
       "</style>\n",
       "<table border=\"1\" class=\"dataframe\">\n",
       "  <thead>\n",
       "    <tr style=\"text-align: right;\">\n",
       "      <th></th>\n",
       "      <th>created_at</th>\n",
       "      <th>text</th>\n",
       "      <th>Sentiments</th>\n",
       "    </tr>\n",
       "  </thead>\n",
       "  <tbody>\n",
       "    <tr>\n",
       "      <th>3149017</th>\n",
       "      <td>Thu Jan 14 08:45:00 +0000 2021</td>\n",
       "      <td>Complaint against Mogoeng over COVID-19 vaccine comment escalated to JCC https://t.co/Tzo7EkpFYb via @ewnreporter</td>\n",
       "      <td>NaN</td>\n",
       "    </tr>\n",
       "    <tr>\n",
       "      <th>4248215</th>\n",
       "      <td>Fri Feb 05 19:04:02 +0000 2021</td>\n",
       "      <td>@JasonOverstreet @CNN @MSNBC @FOXNEWS - #QOP is unfit to govern! Incredibly, after 4 years of @SenateGOP ring kissing, enabling of Trump's American Carnage, silence during his deadly Covid negligence and witnessing VP Pence and Dems targeted by Trump for execution, not ONE @GOP vote for Simulus!! https://t.co/BPBT12wpbO</td>\n",
       "      <td>NaN</td>\n",
       "    </tr>\n",
       "    <tr>\n",
       "      <th>2567946</th>\n",
       "      <td>Fri Jan 01 01:23:19 +0000 2021</td>\n",
       "      <td>@thehill FDA just approved the covid vaccine too. while it's in clinical trails. lol 2021, coming soon!</td>\n",
       "      <td>NaN</td>\n",
       "    </tr>\n",
       "    <tr>\n",
       "      <th>17874</th>\n",
       "      <td>Mon Nov 02 07:09:13 +0000 2020</td>\n",
       "      <td>@JoshuaLee4rd @Plinz Covid-vaccines</td>\n",
       "      <td>Neutral</td>\n",
       "    </tr>\n",
       "    <tr>\n",
       "      <th>314152</th>\n",
       "      <td>Fri Nov 13 09:43:05 +0000 2020</td>\n",
       "      <td>Nigeria’s main priority is COVID-19 vaccine – VP Osinbajo https://t.co/q3LdWuuBG7</td>\n",
       "      <td>Neutral</td>\n",
       "    </tr>\n",
       "    <tr>\n",
       "      <th>2157029</th>\n",
       "      <td>Mon Dec 21 17:29:26 +0000 2020</td>\n",
       "      <td>Would love if when you went to get a Covid vaccine, someone would be there. \"Welp, looks like on October 21, you said on Facebook that it was all a hoax and the vaccine was toxic\". Back of the line. Sorry.</td>\n",
       "      <td>NaN</td>\n",
       "    </tr>\n",
       "    <tr>\n",
       "      <th>2138787</th>\n",
       "      <td>Mon Dec 21 08:38:33 +0000 2020</td>\n",
       "      <td>Petition: Prioritise teachers, school and childcare staff for Covid-19 vaccination https://t.co/imbtbl0hBd</td>\n",
       "      <td>NaN</td>\n",
       "    </tr>\n",
       "    <tr>\n",
       "      <th>702524</th>\n",
       "      <td>Tue Nov 24 04:52:53 +0000 2020</td>\n",
       "      <td>@amyyqin China kept deceiving the world &amp;amp; its own people that the virus is not human transferrable till Jan 20 while secretly started developing vaccines on Jan 4.\\nClick the below image for details. https://t.co/brGTqFsRJj</td>\n",
       "      <td>NaN</td>\n",
       "    </tr>\n",
       "    <tr>\n",
       "      <th>1214336</th>\n",
       "      <td>Sun Dec 06 08:41:36 +0000 2020</td>\n",
       "      <td>via @PerilOfAfrica #InternationalNews #Coronaviruspandemic #Health China prepares large-scale rollout of coronavirus vaccines: 2020-12-06 04:21:24 In this Sept. 24, 2020, file photo, syringes of SARS CoV-2 Vaccine for COVID-19 produced by Sinovac are… https://t.co/SumX0SicnF https://t.co/v5RrtaYhlQ</td>\n",
       "      <td>NaN</td>\n",
       "    </tr>\n",
       "    <tr>\n",
       "      <th>4970892</th>\n",
       "      <td>Sun Feb 21 15:00:46 +0000 2021</td>\n",
       "      <td>Just curious why 1 of third U.S military refusing covid19 vaccine?  Or is this just some rumours ?</td>\n",
       "      <td>NaN</td>\n",
       "    </tr>\n",
       "  </tbody>\n",
       "</table>\n",
       "</div>"
      ],
      "text/plain": [
       "                             created_at  \\\n",
       "3149017  Thu Jan 14 08:45:00 +0000 2021   \n",
       "4248215  Fri Feb 05 19:04:02 +0000 2021   \n",
       "2567946  Fri Jan 01 01:23:19 +0000 2021   \n",
       "17874    Mon Nov 02 07:09:13 +0000 2020   \n",
       "314152   Fri Nov 13 09:43:05 +0000 2020   \n",
       "2157029  Mon Dec 21 17:29:26 +0000 2020   \n",
       "2138787  Mon Dec 21 08:38:33 +0000 2020   \n",
       "702524   Tue Nov 24 04:52:53 +0000 2020   \n",
       "1214336  Sun Dec 06 08:41:36 +0000 2020   \n",
       "4970892  Sun Feb 21 15:00:46 +0000 2021   \n",
       "\n",
       "                                                                                                                                                                                                                                                                                                                                      text  \\\n",
       "3149017                                                                                                                                                                                                                  Complaint against Mogoeng over COVID-19 vaccine comment escalated to JCC https://t.co/Tzo7EkpFYb via @ewnreporter   \n",
       "4248215  @JasonOverstreet @CNN @MSNBC @FOXNEWS - #QOP is unfit to govern! Incredibly, after 4 years of @SenateGOP ring kissing, enabling of Trump's American Carnage, silence during his deadly Covid negligence and witnessing VP Pence and Dems targeted by Trump for execution, not ONE @GOP vote for Simulus!! https://t.co/BPBT12wpbO   \n",
       "2567946                                                                                                                                                                                                                            @thehill FDA just approved the covid vaccine too. while it's in clinical trails. lol 2021, coming soon!   \n",
       "17874                                                                                                                                                                                                                                                                                                  @JoshuaLee4rd @Plinz Covid-vaccines   \n",
       "314152                                                                                                                                                                                                                                                   Nigeria’s main priority is COVID-19 vaccine – VP Osinbajo https://t.co/q3LdWuuBG7   \n",
       "2157029                                                                                                                      Would love if when you went to get a Covid vaccine, someone would be there. \"Welp, looks like on October 21, you said on Facebook that it was all a hoax and the vaccine was toxic\". Back of the line. Sorry.   \n",
       "2138787                                                                                                                                                                                                                         Petition: Prioritise teachers, school and childcare staff for Covid-19 vaccination https://t.co/imbtbl0hBd   \n",
       "702524                                                                                                 @amyyqin China kept deceiving the world &amp; its own people that the virus is not human transferrable till Jan 20 while secretly started developing vaccines on Jan 4.\\nClick the below image for details. https://t.co/brGTqFsRJj   \n",
       "1214336                        via @PerilOfAfrica #InternationalNews #Coronaviruspandemic #Health China prepares large-scale rollout of coronavirus vaccines: 2020-12-06 04:21:24 In this Sept. 24, 2020, file photo, syringes of SARS CoV-2 Vaccine for COVID-19 produced by Sinovac are… https://t.co/SumX0SicnF https://t.co/v5RrtaYhlQ   \n",
       "4970892                                                                                                                                                                                                                                 Just curious why 1 of third U.S military refusing covid19 vaccine?  Or is this just some rumours ?   \n",
       "\n",
       "        Sentiments  \n",
       "3149017        NaN  \n",
       "4248215        NaN  \n",
       "2567946        NaN  \n",
       "17874      Neutral  \n",
       "314152     Neutral  \n",
       "2157029        NaN  \n",
       "2138787        NaN  \n",
       "702524         NaN  \n",
       "1214336        NaN  \n",
       "4970892        NaN  "
      ]
     },
     "execution_count": 60,
     "metadata": {},
     "output_type": "execute_result"
    }
   ],
   "source": [
    "df_sample.head(10)"
   ]
  },
  {
   "cell_type": "code",
   "execution_count": 64,
   "metadata": {},
   "outputs": [],
   "source": [
    "df_sample = df_sample.reset_index(drop=True)"
   ]
  },
  {
   "cell_type": "code",
   "execution_count": 66,
   "metadata": {},
   "outputs": [
    {
     "data": {
      "text/plain": [
       "0                                                                                                                                                                                                                    Complaint against Mogoeng over COVID-19 vaccine comment escalated to JCC https://t.co/Tzo7EkpFYb via @ewnreporter\n",
       "1    @JasonOverstreet @CNN @MSNBC @FOXNEWS - #QOP is unfit to govern! Incredibly, after 4 years of @SenateGOP ring kissing, enabling of Trump's American Carnage, silence during his deadly Covid negligence and witnessing VP Pence and Dems targeted by Trump for execution, not ONE @GOP vote for Simulus!! https://t.co/BPBT12wpbO\n",
       "2                                                                                                                                                                                                                              @thehill FDA just approved the covid vaccine too. while it's in clinical trails. lol 2021, coming soon!\n",
       "3                                                                                                                                                                                                                                                                                                  @JoshuaLee4rd @Plinz Covid-vaccines\n",
       "4                                                                                                                                                                                                                                                    Nigeria’s main priority is COVID-19 vaccine – VP Osinbajo https://t.co/q3LdWuuBG7\n",
       "5                                                                                                                        Would love if when you went to get a Covid vaccine, someone would be there. \"Welp, looks like on October 21, you said on Facebook that it was all a hoax and the vaccine was toxic\". Back of the line. Sorry.\n",
       "6                                                                                                                                                                                                                           Petition: Prioritise teachers, school and childcare staff for Covid-19 vaccination https://t.co/imbtbl0hBd\n",
       "7                                                                                                  @amyyqin China kept deceiving the world &amp; its own people that the virus is not human transferrable till Jan 20 while secretly started developing vaccines on Jan 4.\\nClick the below image for details. https://t.co/brGTqFsRJj\n",
       "8                          via @PerilOfAfrica #InternationalNews #Coronaviruspandemic #Health China prepares large-scale rollout of coronavirus vaccines: 2020-12-06 04:21:24 In this Sept. 24, 2020, file photo, syringes of SARS CoV-2 Vaccine for COVID-19 produced by Sinovac are… https://t.co/SumX0SicnF https://t.co/v5RrtaYhlQ\n",
       "9                                                                                                                                                                                                                                   Just curious why 1 of third U.S military refusing covid19 vaccine?  Or is this just some rumours ?\n",
       "Name: text, dtype: object"
      ]
     },
     "execution_count": 66,
     "metadata": {},
     "output_type": "execute_result"
    }
   ],
   "source": [
    "df_sample[\"text\"].head(10)"
   ]
  },
  {
   "cell_type": "code",
   "execution_count": 63,
   "metadata": {},
   "outputs": [
    {
     "data": {
      "text/plain": [
       "['Complaint against Mogoeng over COVID-19 vaccine comment escalated to JCC via ',\n",
       " '- #QOP is unfit to govern! Incredibly, after 4 years of ring kissing, enabling of Trumps American Carnage, silence during his deadly Covid negligence and witnessing VP Pence and Dems targeted by Trump for execution, not ONE vote for Simulus!! ',\n",
       " 'FDA just approved the covid vaccine too. while its in clinical trails. lol 2021, coming soon!',\n",
       " 'Covid-vaccines',\n",
       " 'Nigeria’s main priority is COVID-19 vaccine – VP Osinbajo ',\n",
       " 'Would love if when you went to get a Covid vaccine, someone would be there. \"Welp, looks like on October 21, you said on Facebook that it was all a hoax and the vaccine was toxic\". Back of the line. Sorry.',\n",
       " 'Petition: Prioritise teachers, school and childcare staff for Covid-19 vaccination ',\n",
       " 'China kept deceiving the world &amp; its own people that the virus is not human transferrable till Jan 20 while secretly started developing vaccines on Jan 4. Click the below image for details. ',\n",
       " 'via #InternationalNews #Coronaviruspandemic #Health China prepares large-scale rollout of coronavirus vaccines: 2020-12-06 04:21:24 In this Sept. 24, 2020, file photo, syringes of SARS CoV-2 Vaccine for COVID-19 produced by Sinovac are… ',\n",
       " 'Just curious why 1 of third U.S military refusing covid19 vaccine? Or is this just some rumours ?']"
      ]
     },
     "execution_count": 63,
     "metadata": {},
     "output_type": "execute_result"
    }
   ],
   "source": [
    "text_list[:10]"
   ]
  },
  {
   "cell_type": "code",
   "execution_count": 67,
   "metadata": {},
   "outputs": [
    {
     "data": {
      "text/plain": [
       "670466"
      ]
     },
     "execution_count": 67,
     "metadata": {},
     "output_type": "execute_result"
    }
   ],
   "source": [
    "len(text_list)"
   ]
  },
  {
   "cell_type": "markdown",
   "metadata": {},
   "source": [
    "### Apply best model (Bidirection RNN) to the dataset"
   ]
  },
  {
   "cell_type": "code",
   "execution_count": 73,
   "metadata": {},
   "outputs": [
    {
     "name": "stdout",
     "output_type": "stream",
     "text": [
      "0 %\n",
      "1 %\n",
      "2 %\n",
      "3 %\n",
      "4 %\n",
      "5 %\n",
      "6 %\n",
      "7 %\n",
      "8 %\n",
      "9 %\n",
      "10 %\n",
      "11 %\n",
      "12 %\n",
      "13 %\n",
      "14 %\n",
      "15 %\n",
      "16 %\n",
      "17 %\n",
      "18 %\n",
      "19 %\n",
      "20 %\n",
      "21 %\n",
      "22 %\n",
      "23 %\n",
      "24 %\n",
      "25 %\n",
      "26 %\n",
      "27 %\n",
      "28 %\n",
      "29 %\n",
      "30 %\n",
      "31 %\n",
      "32 %\n",
      "33 %\n",
      "34 %\n",
      "35 %\n",
      "36 %\n",
      "37 %\n",
      "38 %\n",
      "39 %\n",
      "40 %\n",
      "41 %\n",
      "42 %\n",
      "43 %\n",
      "44 %\n",
      "45 %\n",
      "46 %\n",
      "47 %\n",
      "48 %\n",
      "49 %\n",
      "50 %\n",
      "51 %\n",
      "52 %\n",
      "53 %\n",
      "54 %\n",
      "55 %\n",
      "56 %\n",
      "57 %\n",
      "58 %\n",
      "59 %\n",
      "60 %\n",
      "61 %\n",
      "62 %\n",
      "63 %\n",
      "64 %\n",
      "65 %\n",
      "66 %\n",
      "67 %\n",
      "68 %\n",
      "69 %\n",
      "70 %\n",
      "71 %\n",
      "72 %\n",
      "73 %\n",
      "74 %\n",
      "75 %\n",
      "76 %\n",
      "77 %\n",
      "78 %\n",
      "79 %\n",
      "80 %\n",
      "81 %\n",
      "82 %\n",
      "83 %\n",
      "84 %\n",
      "85 %\n",
      "86 %\n",
      "87 %\n",
      "88 %\n",
      "89 %\n",
      "90 %\n",
      "91 %\n",
      "92 %\n",
      "93 %\n",
      "94 %\n",
      "95 %\n",
      "96 %\n",
      "97 %\n",
      "98 %\n",
      "99 %\n",
      "100 %\n"
     ]
    }
   ],
   "source": [
    "sentiment = ['Neutral','Negative','Positive']\n",
    "for l in range(len(text_list)):\n",
    "    seq = tokenize.texts_to_sequences([text_list[l]])\n",
    "    tweet = pad_sequences(seq, maxlen=max_len)\n",
    "    df_sample[\"Sentiments\"][l] = sentiment[np.around(mod2.predict(tweet), decimals=0).argmax(axis=1)[0]]\n",
    "    if (l % 6704 == 0):\n",
    "        perc = l/len(text_list) * 100\n",
    "        f_perc = \"{:.0f}\".format(perc)\n",
    "        print(f_perc,\"%\")\n",
    "\n",
    "        \n",
    "final_df = df_sample\n",
    "df_sample.to_csv('df_sample.csv', index=False)"
   ]
  },
  {
   "cell_type": "markdown",
   "metadata": {},
   "source": [
    "**Applying model to dataset takes long time, So saved final dataset to a .CSV file. I will be using this CSV file for further analysis..**"
   ]
  },
  {
   "cell_type": "code",
   "execution_count": 74,
   "metadata": {},
   "outputs": [],
   "source": [
    "#final_df = df_sample\n",
    "#df_sample.to_csv('df_sample.csv', index=False)"
   ]
  },
  {
   "cell_type": "code",
   "execution_count": 75,
   "metadata": {},
   "outputs": [
    {
     "data": {
      "text/html": [
       "<div>\n",
       "<style scoped>\n",
       "    .dataframe tbody tr th:only-of-type {\n",
       "        vertical-align: middle;\n",
       "    }\n",
       "\n",
       "    .dataframe tbody tr th {\n",
       "        vertical-align: top;\n",
       "    }\n",
       "\n",
       "    .dataframe thead th {\n",
       "        text-align: right;\n",
       "    }\n",
       "</style>\n",
       "<table border=\"1\" class=\"dataframe\">\n",
       "  <thead>\n",
       "    <tr style=\"text-align: right;\">\n",
       "      <th></th>\n",
       "      <th>text</th>\n",
       "      <th>Sentiments</th>\n",
       "    </tr>\n",
       "  </thead>\n",
       "  <tbody>\n",
       "    <tr>\n",
       "      <th>0</th>\n",
       "      <td>Complaint against Mogoeng over COVID-19 vaccine comment escalated to JCC https://t.co/Tzo7EkpFYb via @ewnreporter</td>\n",
       "      <td>Neutral</td>\n",
       "    </tr>\n",
       "    <tr>\n",
       "      <th>1</th>\n",
       "      <td>@JasonOverstreet @CNN @MSNBC @FOXNEWS - #QOP is unfit to govern! Incredibly, after 4 years of @SenateGOP ring kissing, enabling of Trump's American Carnage, silence during his deadly Covid negligence and witnessing VP Pence and Dems targeted by Trump for execution, not ONE @GOP vote for Simulus!! https://t.co/BPBT12wpbO</td>\n",
       "      <td>Neutral</td>\n",
       "    </tr>\n",
       "    <tr>\n",
       "      <th>2</th>\n",
       "      <td>@thehill FDA just approved the covid vaccine too. while it's in clinical trails. lol 2021, coming soon!</td>\n",
       "      <td>Neutral</td>\n",
       "    </tr>\n",
       "    <tr>\n",
       "      <th>3</th>\n",
       "      <td>@JoshuaLee4rd @Plinz Covid-vaccines</td>\n",
       "      <td>Neutral</td>\n",
       "    </tr>\n",
       "    <tr>\n",
       "      <th>4</th>\n",
       "      <td>Nigeria’s main priority is COVID-19 vaccine – VP Osinbajo https://t.co/q3LdWuuBG7</td>\n",
       "      <td>Neutral</td>\n",
       "    </tr>\n",
       "    <tr>\n",
       "      <th>5</th>\n",
       "      <td>Would love if when you went to get a Covid vaccine, someone would be there. \"Welp, looks like on October 21, you said on Facebook that it was all a hoax and the vaccine was toxic\". Back of the line. Sorry.</td>\n",
       "      <td>Neutral</td>\n",
       "    </tr>\n",
       "    <tr>\n",
       "      <th>6</th>\n",
       "      <td>Petition: Prioritise teachers, school and childcare staff for Covid-19 vaccination https://t.co/imbtbl0hBd</td>\n",
       "      <td>Neutral</td>\n",
       "    </tr>\n",
       "    <tr>\n",
       "      <th>7</th>\n",
       "      <td>@amyyqin China kept deceiving the world &amp;amp; its own people that the virus is not human transferrable till Jan 20 while secretly started developing vaccines on Jan 4.\\nClick the below image for details. https://t.co/brGTqFsRJj</td>\n",
       "      <td>Neutral</td>\n",
       "    </tr>\n",
       "    <tr>\n",
       "      <th>8</th>\n",
       "      <td>via @PerilOfAfrica #InternationalNews #Coronaviruspandemic #Health China prepares large-scale rollout of coronavirus vaccines: 2020-12-06 04:21:24 In this Sept. 24, 2020, file photo, syringes of SARS CoV-2 Vaccine for COVID-19 produced by Sinovac are… https://t.co/SumX0SicnF https://t.co/v5RrtaYhlQ</td>\n",
       "      <td>Neutral</td>\n",
       "    </tr>\n",
       "    <tr>\n",
       "      <th>9</th>\n",
       "      <td>Just curious why 1 of third U.S military refusing covid19 vaccine?  Or is this just some rumours ?</td>\n",
       "      <td>Neutral</td>\n",
       "    </tr>\n",
       "    <tr>\n",
       "      <th>10</th>\n",
       "      <td>@namusefully raising awareness for covid-19 vaccines! https://t.co/WgC91AvZqc</td>\n",
       "      <td>Neutral</td>\n",
       "    </tr>\n",
       "    <tr>\n",
       "      <th>11</th>\n",
       "      <td>@sherwhizt @JEVLloyd @freespiritus Same but I question my sanity if it takes another year. I just need a vaccine shot to feel at least a little safer. My physical health is better &amp;amp; I had a Pneumonia shot in January so I probably won't die from #Covid19 but I refuse to be so careless as to get it from #Covidiots.</td>\n",
       "      <td>Neutral</td>\n",
       "    </tr>\n",
       "    <tr>\n",
       "      <th>12</th>\n",
       "      <td>@JamesDMayer2 @AC360 Trump claimed there is no Russian collusion- he was right,\\nTrump claimed Obama spied on his campaign- he was right\\nTrump claimed that there would be China covid vaccine before year end- he was right\\nTrump claimed this election is rigged- he is right</td>\n",
       "      <td>Neutral</td>\n",
       "    </tr>\n",
       "    <tr>\n",
       "      <th>13</th>\n",
       "      <td>How is a sitting US Senator allowed to violate @JoeBiden executive orders on international travel? https://t.co/1MbMaRExQP</td>\n",
       "      <td>Neutral</td>\n",
       "    </tr>\n",
       "    <tr>\n",
       "      <th>14</th>\n",
       "      <td>oh yea it’s a Australian COVID vaccine ad for no reason lol</td>\n",
       "      <td>Neutral</td>\n",
       "    </tr>\n",
       "  </tbody>\n",
       "</table>\n",
       "</div>"
      ],
      "text/plain": [
       "                                                                                                                                                                                                                                                                                                                                 text  \\\n",
       "0                                                                                                                                                                                                                   Complaint against Mogoeng over COVID-19 vaccine comment escalated to JCC https://t.co/Tzo7EkpFYb via @ewnreporter   \n",
       "1   @JasonOverstreet @CNN @MSNBC @FOXNEWS - #QOP is unfit to govern! Incredibly, after 4 years of @SenateGOP ring kissing, enabling of Trump's American Carnage, silence during his deadly Covid negligence and witnessing VP Pence and Dems targeted by Trump for execution, not ONE @GOP vote for Simulus!! https://t.co/BPBT12wpbO   \n",
       "2                                                                                                                                                                                                                             @thehill FDA just approved the covid vaccine too. while it's in clinical trails. lol 2021, coming soon!   \n",
       "3                                                                                                                                                                                                                                                                                                 @JoshuaLee4rd @Plinz Covid-vaccines   \n",
       "4                                                                                                                                                                                                                                                   Nigeria’s main priority is COVID-19 vaccine – VP Osinbajo https://t.co/q3LdWuuBG7   \n",
       "5                                                                                                                       Would love if when you went to get a Covid vaccine, someone would be there. \"Welp, looks like on October 21, you said on Facebook that it was all a hoax and the vaccine was toxic\". Back of the line. Sorry.   \n",
       "6                                                                                                                                                                                                                          Petition: Prioritise teachers, school and childcare staff for Covid-19 vaccination https://t.co/imbtbl0hBd   \n",
       "7                                                                                                 @amyyqin China kept deceiving the world &amp; its own people that the virus is not human transferrable till Jan 20 while secretly started developing vaccines on Jan 4.\\nClick the below image for details. https://t.co/brGTqFsRJj   \n",
       "8                         via @PerilOfAfrica #InternationalNews #Coronaviruspandemic #Health China prepares large-scale rollout of coronavirus vaccines: 2020-12-06 04:21:24 In this Sept. 24, 2020, file photo, syringes of SARS CoV-2 Vaccine for COVID-19 produced by Sinovac are… https://t.co/SumX0SicnF https://t.co/v5RrtaYhlQ   \n",
       "9                                                                                                                                                                                                                                  Just curious why 1 of third U.S military refusing covid19 vaccine?  Or is this just some rumours ?   \n",
       "10                                                                                                                                                                                                                                                      @namusefully raising awareness for covid-19 vaccines! https://t.co/WgC91AvZqc   \n",
       "11     @sherwhizt @JEVLloyd @freespiritus Same but I question my sanity if it takes another year. I just need a vaccine shot to feel at least a little safer. My physical health is better &amp; I had a Pneumonia shot in January so I probably won't die from #Covid19 but I refuse to be so careless as to get it from #Covidiots.   \n",
       "12                                                  @JamesDMayer2 @AC360 Trump claimed there is no Russian collusion- he was right,\\nTrump claimed Obama spied on his campaign- he was right\\nTrump claimed that there would be China covid vaccine before year end- he was right\\nTrump claimed this election is rigged- he is right   \n",
       "13                                                                                                                                                                                                         How is a sitting US Senator allowed to violate @JoeBiden executive orders on international travel? https://t.co/1MbMaRExQP   \n",
       "14                                                                                                                                                                                                                                                                        oh yea it’s a Australian COVID vaccine ad for no reason lol   \n",
       "\n",
       "   Sentiments  \n",
       "0     Neutral  \n",
       "1     Neutral  \n",
       "2     Neutral  \n",
       "3     Neutral  \n",
       "4     Neutral  \n",
       "5     Neutral  \n",
       "6     Neutral  \n",
       "7     Neutral  \n",
       "8     Neutral  \n",
       "9     Neutral  \n",
       "10    Neutral  \n",
       "11    Neutral  \n",
       "12    Neutral  \n",
       "13    Neutral  \n",
       "14    Neutral  "
      ]
     },
     "execution_count": 75,
     "metadata": {},
     "output_type": "execute_result"
    }
   ],
   "source": [
    "tweet_sent = pd.read_csv('df_sample.csv')\n",
    "\n",
    "pd.set_option('display.max_colwidth', None)\n",
    "tweet_sent[[\"text\", \"Sentiments\"]].head(15)"
   ]
  },
  {
   "cell_type": "code",
   "execution_count": 76,
   "metadata": {},
   "outputs": [
    {
     "data": {
      "text/html": [
       "<div>\n",
       "<style scoped>\n",
       "    .dataframe tbody tr th:only-of-type {\n",
       "        vertical-align: middle;\n",
       "    }\n",
       "\n",
       "    .dataframe tbody tr th {\n",
       "        vertical-align: top;\n",
       "    }\n",
       "\n",
       "    .dataframe thead th {\n",
       "        text-align: right;\n",
       "    }\n",
       "</style>\n",
       "<table border=\"1\" class=\"dataframe\">\n",
       "  <thead>\n",
       "    <tr style=\"text-align: right;\">\n",
       "      <th></th>\n",
       "      <th>created_at</th>\n",
       "      <th>text</th>\n",
       "    </tr>\n",
       "    <tr>\n",
       "      <th>Sentiments</th>\n",
       "      <th></th>\n",
       "      <th></th>\n",
       "    </tr>\n",
       "  </thead>\n",
       "  <tbody>\n",
       "    <tr>\n",
       "      <th>Negative</th>\n",
       "      <td>3165</td>\n",
       "      <td>3142</td>\n",
       "    </tr>\n",
       "    <tr>\n",
       "      <th>Neutral</th>\n",
       "      <td>644539</td>\n",
       "      <td>661396</td>\n",
       "    </tr>\n",
       "    <tr>\n",
       "      <th>Positive</th>\n",
       "      <td>1703</td>\n",
       "      <td>1704</td>\n",
       "    </tr>\n",
       "  </tbody>\n",
       "</table>\n",
       "</div>"
      ],
      "text/plain": [
       "            created_at    text\n",
       "Sentiments                    \n",
       "Negative          3165    3142\n",
       "Neutral         644539  661396\n",
       "Positive          1703    1704"
      ]
     },
     "execution_count": 76,
     "metadata": {},
     "output_type": "execute_result"
    }
   ],
   "source": [
    "# Sentiment Counts\n",
    "tweet_sent.groupby('Sentiments').nunique()"
   ]
  },
  {
   "cell_type": "code",
   "execution_count": 82,
   "metadata": {},
   "outputs": [
    {
     "data": {
      "text/html": [
       "<div>\n",
       "<style scoped>\n",
       "    .dataframe tbody tr th:only-of-type {\n",
       "        vertical-align: middle;\n",
       "    }\n",
       "\n",
       "    .dataframe tbody tr th {\n",
       "        vertical-align: top;\n",
       "    }\n",
       "\n",
       "    .dataframe thead th {\n",
       "        text-align: right;\n",
       "    }\n",
       "</style>\n",
       "<table border=\"1\" class=\"dataframe\">\n",
       "  <thead>\n",
       "    <tr style=\"text-align: right;\">\n",
       "      <th></th>\n",
       "      <th>created_at</th>\n",
       "      <th>text</th>\n",
       "      <th>Sentiments</th>\n",
       "    </tr>\n",
       "  </thead>\n",
       "  <tbody>\n",
       "    <tr>\n",
       "      <th>245</th>\n",
       "      <td>Thu Dec 24 21:51:44 +0000 2020</td>\n",
       "      <td>@CDCgov I'm not getting vaccine so..</td>\n",
       "      <td>Negative</td>\n",
       "    </tr>\n",
       "    <tr>\n",
       "      <th>334</th>\n",
       "      <td>Fri Mar 05 15:44:05 +0000 2021</td>\n",
       "      <td>Nigeria commences COVID-19 vaccination - https://t.co/yFa5YOrETD</td>\n",
       "      <td>Negative</td>\n",
       "    </tr>\n",
       "    <tr>\n",
       "      <th>477</th>\n",
       "      <td>Sun Feb 14 15:13:02 +0000 2021</td>\n",
       "      <td>Covid: Claims vaccinations harm fertility unfounded https://t.co/Wl6MYlD8tI</td>\n",
       "      <td>Negative</td>\n",
       "    </tr>\n",
       "    <tr>\n",
       "      <th>604</th>\n",
       "      <td>Wed Nov 18 18:04:41 +0000 2020</td>\n",
       "      <td>2k tournament https://t.co/iznyvkyNwm</td>\n",
       "      <td>Negative</td>\n",
       "    </tr>\n",
       "    <tr>\n",
       "      <th>744</th>\n",
       "      <td>Wed Mar 03 18:05:54 +0000 2021</td>\n",
       "      <td>Petition: Do not rollout Covid-19 vaccine passports https://t.co/HlKiBL9Bwy</td>\n",
       "      <td>Negative</td>\n",
       "    </tr>\n",
       "    <tr>\n",
       "      <th>859</th>\n",
       "      <td>Mon Feb 08 10:34:16 +0000 2021</td>\n",
       "      <td>Disability Partnership Calderdale newsletter 05 February 2021\\n@disabilitypartnershipcalderdale @coronavirus @vaccine @consultations @usefulinfo\\n#disabilitypartnershipcalderdale #coronavirus #vaccine #consultations #usefulinfo https://t.co/CwsL6AJVnz</td>\n",
       "      <td>Negative</td>\n",
       "    </tr>\n",
       "    <tr>\n",
       "      <th>1386</th>\n",
       "      <td>Tue Mar 09 20:38:11 +0000 2021</td>\n",
       "      <td>PHOTOS: Osun receives COVID-19 vaccine https://t.co/7hHYvNT7Kp</td>\n",
       "      <td>Negative</td>\n",
       "    </tr>\n",
       "    <tr>\n",
       "      <th>1474</th>\n",
       "      <td>Wed Feb 10 15:24:10 +0000 2021</td>\n",
       "      <td>Ist dose covid vaccine https://t.co/9KbcJG4TJO</td>\n",
       "      <td>Negative</td>\n",
       "    </tr>\n",
       "    <tr>\n",
       "      <th>1637</th>\n",
       "      <td>Thu Mar 11 10:06:42 +0000 2021</td>\n",
       "      <td>Taraba receive 56,250 AstraZeneca COVID-19 vaccine https://t.co/LemcaKjHW1</td>\n",
       "      <td>Negative</td>\n",
       "    </tr>\n",
       "    <tr>\n",
       "      <th>1847</th>\n",
       "      <td>Tue Nov 17 12:42:06 +0000 2020</td>\n",
       "      <td>Trump's transition sabotage threatens vaccine rollout #SmartNews  https://t.co/xmv9uPb8V1</td>\n",
       "      <td>Negative</td>\n",
       "    </tr>\n",
       "    <tr>\n",
       "      <th>1856</th>\n",
       "      <td>Sat Jan 23 11:18:09 +0000 2021</td>\n",
       "      <td>Petition: Do not rollout Covid-19 vaccine passports https://t.co/N7uJXT4aOo</td>\n",
       "      <td>Negative</td>\n",
       "    </tr>\n",
       "    <tr>\n",
       "      <th>1954</th>\n",
       "      <td>Thu Jan 28 07:23:28 +0000 2021</td>\n",
       "      <td>I’m not taking no damn covid vaccine.</td>\n",
       "      <td>Negative</td>\n",
       "    </tr>\n",
       "    <tr>\n",
       "      <th>1958</th>\n",
       "      <td>Tue Dec 08 07:22:24 +0000 2020</td>\n",
       "      <td>Trump #TrumpIsACompleteFailure #PearlHarborRemembranceDay #PearlHarbor #Pfizervaccine #Pfizer #MedalOfFreedom https://t.co/VoMPtgfcKg</td>\n",
       "      <td>Negative</td>\n",
       "    </tr>\n",
       "    <tr>\n",
       "      <th>2020</th>\n",
       "      <td>Sun Mar 07 22:50:37 +0000 2021</td>\n",
       "      <td>@poopulus @Daniel33490456 @ArnaldoJRibeiro Covid</td>\n",
       "      <td>Negative</td>\n",
       "    </tr>\n",
       "    <tr>\n",
       "      <th>2412</th>\n",
       "      <td>Fri Nov 20 23:02:16 +0000 2020</td>\n",
       "      <td>Part 1 #COVID19 #vaccine #CovidVaccine https://t.co/ndbeF3OWBc</td>\n",
       "      <td>Negative</td>\n",
       "    </tr>\n",
       "    <tr>\n",
       "      <th>2428</th>\n",
       "      <td>Tue Mar 09 15:35:56 +0000 2021</td>\n",
       "      <td>@jefftaylorhuman \"history humbles vaccine scientists\"       https://t.co/cRwwjkWYdy</td>\n",
       "      <td>Negative</td>\n",
       "    </tr>\n",
       "    <tr>\n",
       "      <th>2719</th>\n",
       "      <td>Wed Jan 20 11:01:55 +0000 2021</td>\n",
       "      <td>Stunning Caribbean - Aruba \\n@travelbugexplore⁠ @aruba @visitaruba\\n#capabletravel #aruba #visitaruba #netherlands #caribbeansea #travelbugexplore #caribbean  #islandvibes #coronavirus #vaccine #cntraveller #cntraveler #holidays2021 #travelblogger #Openforhapiness #Onehappyisland https://t.co/OUjw5yZjLz</td>\n",
       "      <td>Negative</td>\n",
       "    </tr>\n",
       "    <tr>\n",
       "      <th>2760</th>\n",
       "      <td>Sat Dec 26 09:12:37 +0000 2020</td>\n",
       "      <td>@Bulawayo24News Covid 19 vaccine</td>\n",
       "      <td>Negative</td>\n",
       "    </tr>\n",
       "    <tr>\n",
       "      <th>3055</th>\n",
       "      <td>Sun Dec 20 02:07:40 +0000 2020</td>\n",
       "      <td>Coronavirus: Trump's Covid vaccine chief admits delivery mistake https://t.co/mcEmhw7UBZ</td>\n",
       "      <td>Negative</td>\n",
       "    </tr>\n",
       "    <tr>\n",
       "      <th>3186</th>\n",
       "      <td>Thu Nov 26 18:02:11 +0000 2020</td>\n",
       "      <td>Oxford/AstraZeneca Covid vaccine 'dose error' explained https://t.co/nWAi7U5Lx4</td>\n",
       "      <td>Negative</td>\n",
       "    </tr>\n",
       "  </tbody>\n",
       "</table>\n",
       "</div>"
      ],
      "text/plain": [
       "                          created_at  \\\n",
       "245   Thu Dec 24 21:51:44 +0000 2020   \n",
       "334   Fri Mar 05 15:44:05 +0000 2021   \n",
       "477   Sun Feb 14 15:13:02 +0000 2021   \n",
       "604   Wed Nov 18 18:04:41 +0000 2020   \n",
       "744   Wed Mar 03 18:05:54 +0000 2021   \n",
       "859   Mon Feb 08 10:34:16 +0000 2021   \n",
       "1386  Tue Mar 09 20:38:11 +0000 2021   \n",
       "1474  Wed Feb 10 15:24:10 +0000 2021   \n",
       "1637  Thu Mar 11 10:06:42 +0000 2021   \n",
       "1847  Tue Nov 17 12:42:06 +0000 2020   \n",
       "1856  Sat Jan 23 11:18:09 +0000 2021   \n",
       "1954  Thu Jan 28 07:23:28 +0000 2021   \n",
       "1958  Tue Dec 08 07:22:24 +0000 2020   \n",
       "2020  Sun Mar 07 22:50:37 +0000 2021   \n",
       "2412  Fri Nov 20 23:02:16 +0000 2020   \n",
       "2428  Tue Mar 09 15:35:56 +0000 2021   \n",
       "2719  Wed Jan 20 11:01:55 +0000 2021   \n",
       "2760  Sat Dec 26 09:12:37 +0000 2020   \n",
       "3055  Sun Dec 20 02:07:40 +0000 2020   \n",
       "3186  Thu Nov 26 18:02:11 +0000 2020   \n",
       "\n",
       "                                                                                                                                                                                                                                                                                                                  text  \\\n",
       "245                                                                                                                                                                                                                                                                               @CDCgov I'm not getting vaccine so..   \n",
       "334                                                                                                                                                                                                                                                   Nigeria commences COVID-19 vaccination - https://t.co/yFa5YOrETD   \n",
       "477                                                                                                                                                                                                                                        Covid: Claims vaccinations harm fertility unfounded https://t.co/Wl6MYlD8tI   \n",
       "604                                                                                                                                                                                                                                                                              2k tournament https://t.co/iznyvkyNwm   \n",
       "744                                                                                                                                                                                                                                        Petition: Do not rollout Covid-19 vaccine passports https://t.co/HlKiBL9Bwy   \n",
       "859                                                        Disability Partnership Calderdale newsletter 05 February 2021\\n@disabilitypartnershipcalderdale @coronavirus @vaccine @consultations @usefulinfo\\n#disabilitypartnershipcalderdale #coronavirus #vaccine #consultations #usefulinfo https://t.co/CwsL6AJVnz   \n",
       "1386                                                                                                                                                                                                                                                    PHOTOS: Osun receives COVID-19 vaccine https://t.co/7hHYvNT7Kp   \n",
       "1474                                                                                                                                                                                                                                                                    Ist dose covid vaccine https://t.co/9KbcJG4TJO   \n",
       "1637                                                                                                                                                                                                                                        Taraba receive 56,250 AstraZeneca COVID-19 vaccine https://t.co/LemcaKjHW1   \n",
       "1847                                                                                                                                                                                                                         Trump's transition sabotage threatens vaccine rollout #SmartNews  https://t.co/xmv9uPb8V1   \n",
       "1856                                                                                                                                                                                                                                       Petition: Do not rollout Covid-19 vaccine passports https://t.co/N7uJXT4aOo   \n",
       "1954                                                                                                                                                                                                                                                                             I’m not taking no damn covid vaccine.   \n",
       "1958                                                                                                                                                                             Trump #TrumpIsACompleteFailure #PearlHarborRemembranceDay #PearlHarbor #Pfizervaccine #Pfizer #MedalOfFreedom https://t.co/VoMPtgfcKg   \n",
       "2020                                                                                                                                                                                                                                                                  @poopulus @Daniel33490456 @ArnaldoJRibeiro Covid   \n",
       "2412                                                                                                                                                                                                                                                    Part 1 #COVID19 #vaccine #CovidVaccine https://t.co/ndbeF3OWBc   \n",
       "2428                                                                                                                                                                                                                               @jefftaylorhuman \"history humbles vaccine scientists\"       https://t.co/cRwwjkWYdy   \n",
       "2719  Stunning Caribbean - Aruba \\n@travelbugexplore⁠ @aruba @visitaruba\\n#capabletravel #aruba #visitaruba #netherlands #caribbeansea #travelbugexplore #caribbean  #islandvibes #coronavirus #vaccine #cntraveller #cntraveler #holidays2021 #travelblogger #Openforhapiness #Onehappyisland https://t.co/OUjw5yZjLz   \n",
       "2760                                                                                                                                                                                                                                                                                  @Bulawayo24News Covid 19 vaccine   \n",
       "3055                                                                                                                                                                                                                          Coronavirus: Trump's Covid vaccine chief admits delivery mistake https://t.co/mcEmhw7UBZ   \n",
       "3186                                                                                                                                                                                                                                   Oxford/AstraZeneca Covid vaccine 'dose error' explained https://t.co/nWAi7U5Lx4   \n",
       "\n",
       "     Sentiments  \n",
       "245    Negative  \n",
       "334    Negative  \n",
       "477    Negative  \n",
       "604    Negative  \n",
       "744    Negative  \n",
       "859    Negative  \n",
       "1386   Negative  \n",
       "1474   Negative  \n",
       "1637   Negative  \n",
       "1847   Negative  \n",
       "1856   Negative  \n",
       "1954   Negative  \n",
       "1958   Negative  \n",
       "2020   Negative  \n",
       "2412   Negative  \n",
       "2428   Negative  \n",
       "2719   Negative  \n",
       "2760   Negative  \n",
       "3055   Negative  \n",
       "3186   Negative  "
      ]
     },
     "execution_count": 82,
     "metadata": {},
     "output_type": "execute_result"
    }
   ],
   "source": [
    "tweet_sent[tweet_sent[\"Sentiments\"] == \"Negative\"].head(20)"
   ]
  },
  {
   "cell_type": "markdown",
   "metadata": {},
   "source": [
    "### Taking 2nd 10% sample  ====> Ignore below code....!!!!"
   ]
  },
  {
   "cell_type": "code",
   "execution_count": 83,
   "metadata": {},
   "outputs": [],
   "source": [
    "df_sample2 = raw_df.sample(frac=0.1, random_state=1)"
   ]
  },
  {
   "cell_type": "code",
   "execution_count": 84,
   "metadata": {},
   "outputs": [
    {
     "name": "stdout",
     "output_type": "stream",
     "text": [
      "<class 'pandas.core.frame.DataFrame'>\n",
      "Int64Index: 670466 entries, 3149017 to 4827673\n",
      "Data columns (total 2 columns):\n",
      " #   Column      Non-Null Count   Dtype \n",
      "---  ------      --------------   ----- \n",
      " 0   created_at  670466 non-null  object\n",
      " 1   text        670466 non-null  object\n",
      "dtypes: object(2)\n",
      "memory usage: 15.3+ MB\n"
     ]
    }
   ],
   "source": [
    "df_sample2.info()"
   ]
  },
  {
   "cell_type": "code",
   "execution_count": 86,
   "metadata": {},
   "outputs": [],
   "source": [
    "df_sample2[\"Sentiments\"] = np.nan"
   ]
  },
  {
   "cell_type": "code",
   "execution_count": 90,
   "metadata": {},
   "outputs": [
    {
     "data": {
      "text/html": [
       "<div>\n",
       "<style scoped>\n",
       "    .dataframe tbody tr th:only-of-type {\n",
       "        vertical-align: middle;\n",
       "    }\n",
       "\n",
       "    .dataframe tbody tr th {\n",
       "        vertical-align: top;\n",
       "    }\n",
       "\n",
       "    .dataframe thead th {\n",
       "        text-align: right;\n",
       "    }\n",
       "</style>\n",
       "<table border=\"1\" class=\"dataframe\">\n",
       "  <thead>\n",
       "    <tr style=\"text-align: right;\">\n",
       "      <th></th>\n",
       "      <th>created_at</th>\n",
       "      <th>text</th>\n",
       "      <th>Sentiments</th>\n",
       "    </tr>\n",
       "  </thead>\n",
       "  <tbody>\n",
       "    <tr>\n",
       "      <th>3149017</th>\n",
       "      <td>Thu Jan 14 08:45:00 +0000 2021</td>\n",
       "      <td>Complaint against Mogoeng over COVID-19 vaccine comment escalated to JCC https://t.co/Tzo7EkpFYb via @ewnreporter</td>\n",
       "      <td>NaN</td>\n",
       "    </tr>\n",
       "    <tr>\n",
       "      <th>4248215</th>\n",
       "      <td>Fri Feb 05 19:04:02 +0000 2021</td>\n",
       "      <td>@JasonOverstreet @CNN @MSNBC @FOXNEWS - #QOP is unfit to govern! Incredibly, after 4 years of @SenateGOP ring kissing, enabling of Trump's American Carnage, silence during his deadly Covid negligence and witnessing VP Pence and Dems targeted by Trump for execution, not ONE @GOP vote for Simulus!! https://t.co/BPBT12wpbO</td>\n",
       "      <td>NaN</td>\n",
       "    </tr>\n",
       "    <tr>\n",
       "      <th>2567946</th>\n",
       "      <td>Fri Jan 01 01:23:19 +0000 2021</td>\n",
       "      <td>@thehill FDA just approved the covid vaccine too. while it's in clinical trails. lol 2021, coming soon!</td>\n",
       "      <td>NaN</td>\n",
       "    </tr>\n",
       "    <tr>\n",
       "      <th>17874</th>\n",
       "      <td>Mon Nov 02 07:09:13 +0000 2020</td>\n",
       "      <td>@JoshuaLee4rd @Plinz Covid-vaccines</td>\n",
       "      <td>NaN</td>\n",
       "    </tr>\n",
       "    <tr>\n",
       "      <th>314152</th>\n",
       "      <td>Fri Nov 13 09:43:05 +0000 2020</td>\n",
       "      <td>Nigeria’s main priority is COVID-19 vaccine – VP Osinbajo https://t.co/q3LdWuuBG7</td>\n",
       "      <td>NaN</td>\n",
       "    </tr>\n",
       "  </tbody>\n",
       "</table>\n",
       "</div>"
      ],
      "text/plain": [
       "                             created_at  \\\n",
       "3149017  Thu Jan 14 08:45:00 +0000 2021   \n",
       "4248215  Fri Feb 05 19:04:02 +0000 2021   \n",
       "2567946  Fri Jan 01 01:23:19 +0000 2021   \n",
       "17874    Mon Nov 02 07:09:13 +0000 2020   \n",
       "314152   Fri Nov 13 09:43:05 +0000 2020   \n",
       "\n",
       "                                                                                                                                                                                                                                                                                                                                      text  \\\n",
       "3149017                                                                                                                                                                                                                  Complaint against Mogoeng over COVID-19 vaccine comment escalated to JCC https://t.co/Tzo7EkpFYb via @ewnreporter   \n",
       "4248215  @JasonOverstreet @CNN @MSNBC @FOXNEWS - #QOP is unfit to govern! Incredibly, after 4 years of @SenateGOP ring kissing, enabling of Trump's American Carnage, silence during his deadly Covid negligence and witnessing VP Pence and Dems targeted by Trump for execution, not ONE @GOP vote for Simulus!! https://t.co/BPBT12wpbO   \n",
       "2567946                                                                                                                                                                                                                            @thehill FDA just approved the covid vaccine too. while it's in clinical trails. lol 2021, coming soon!   \n",
       "17874                                                                                                                                                                                                                                                                                                  @JoshuaLee4rd @Plinz Covid-vaccines   \n",
       "314152                                                                                                                                                                                                                                                   Nigeria’s main priority is COVID-19 vaccine – VP Osinbajo https://t.co/q3LdWuuBG7   \n",
       "\n",
       "         Sentiments  \n",
       "3149017         NaN  \n",
       "4248215         NaN  \n",
       "2567946         NaN  \n",
       "17874           NaN  \n",
       "314152          NaN  "
      ]
     },
     "execution_count": 90,
     "metadata": {},
     "output_type": "execute_result"
    }
   ],
   "source": [
    "df_sample2.head()"
   ]
  },
  {
   "cell_type": "code",
   "execution_count": 87,
   "metadata": {},
   "outputs": [],
   "source": [
    "text_list2=[]\n",
    "\n",
    "# Split selected_text to list\n",
    "df_list2 = df_sample2['text'].values.tolist()\n"
   ]
  },
  {
   "cell_type": "code",
   "execution_count": 89,
   "metadata": {},
   "outputs": [
    {
     "data": {
      "text/plain": [
       "\"@JasonOverstreet @CNN @MSNBC @FOXNEWS - #QOP is unfit to govern! Incredibly, after 4 years of @SenateGOP ring kissing, enabling of Trump's American Carnage, silence during his deadly Covid negligence and witnessing VP Pence and Dems targeted by Trump for execution, not ONE @GOP vote for Simulus!! https://t.co/BPBT12wpbO\""
      ]
     },
     "execution_count": 89,
     "metadata": {},
     "output_type": "execute_result"
    }
   ],
   "source": [
    "df_list2[1]"
   ]
  },
  {
   "cell_type": "code",
   "execution_count": 91,
   "metadata": {},
   "outputs": [
    {
     "data": {
      "text/plain": [
       "['Complaint against Mogoeng over COVID-19 vaccine comment escalated to JCC via ',\n",
       " '- #QOP is unfit to govern! Incredibly, after 4 years of ring kissing, enabling of Trumps American Carnage, silence during his deadly Covid negligence and witnessing VP Pence and Dems targeted by Trump for execution, not ONE vote for Simulus!! ',\n",
       " 'FDA just approved the covid vaccine too. while its in clinical trails. lol 2021, coming soon!',\n",
       " 'Covid-vaccines',\n",
       " 'Nigeria’s main priority is COVID-19 vaccine – VP Osinbajo ',\n",
       " 'Would love if when you went to get a Covid vaccine, someone would be there. \"Welp, looks like on October 21, you said on Facebook that it was all a hoax and the vaccine was toxic\". Back of the line. Sorry.',\n",
       " 'Petition: Prioritise teachers, school and childcare staff for Covid-19 vaccination ',\n",
       " 'China kept deceiving the world &amp; its own people that the virus is not human transferrable till Jan 20 while secretly started developing vaccines on Jan 4. Click the below image for details. ',\n",
       " 'via #InternationalNews #Coronaviruspandemic #Health China prepares large-scale rollout of coronavirus vaccines: 2020-12-06 04:21:24 In this Sept. 24, 2020, file photo, syringes of SARS CoV-2 Vaccine for COVID-19 produced by Sinovac are… ',\n",
       " 'Just curious why 1 of third U.S military refusing covid19 vaccine? Or is this just some rumours ?']"
      ]
     },
     "execution_count": 91,
     "metadata": {},
     "output_type": "execute_result"
    }
   ],
   "source": [
    "# Clean the texts\n",
    "for t in range(len(df_list)):\n",
    "    text_list2.append(data_cleaning(df_list2[t]))\n",
    "\n",
    "list(text_list2[0:10])"
   ]
  },
  {
   "cell_type": "code",
   "execution_count": 92,
   "metadata": {},
   "outputs": [
    {
     "data": {
      "text/html": [
       "<div>\n",
       "<style scoped>\n",
       "    .dataframe tbody tr th:only-of-type {\n",
       "        vertical-align: middle;\n",
       "    }\n",
       "\n",
       "    .dataframe tbody tr th {\n",
       "        vertical-align: top;\n",
       "    }\n",
       "\n",
       "    .dataframe thead th {\n",
       "        text-align: right;\n",
       "    }\n",
       "</style>\n",
       "<table border=\"1\" class=\"dataframe\">\n",
       "  <thead>\n",
       "    <tr style=\"text-align: right;\">\n",
       "      <th></th>\n",
       "      <th>created_at</th>\n",
       "      <th>text</th>\n",
       "      <th>Sentiments</th>\n",
       "    </tr>\n",
       "  </thead>\n",
       "  <tbody>\n",
       "    <tr>\n",
       "      <th>0</th>\n",
       "      <td>Thu Jan 14 08:45:00 +0000 2021</td>\n",
       "      <td>Complaint against Mogoeng over COVID-19 vaccine comment escalated to JCC https://t.co/Tzo7EkpFYb via @ewnreporter</td>\n",
       "      <td>NaN</td>\n",
       "    </tr>\n",
       "    <tr>\n",
       "      <th>1</th>\n",
       "      <td>Fri Feb 05 19:04:02 +0000 2021</td>\n",
       "      <td>@JasonOverstreet @CNN @MSNBC @FOXNEWS - #QOP is unfit to govern! Incredibly, after 4 years of @SenateGOP ring kissing, enabling of Trump's American Carnage, silence during his deadly Covid negligence and witnessing VP Pence and Dems targeted by Trump for execution, not ONE @GOP vote for Simulus!! https://t.co/BPBT12wpbO</td>\n",
       "      <td>NaN</td>\n",
       "    </tr>\n",
       "    <tr>\n",
       "      <th>2</th>\n",
       "      <td>Fri Jan 01 01:23:19 +0000 2021</td>\n",
       "      <td>@thehill FDA just approved the covid vaccine too. while it's in clinical trails. lol 2021, coming soon!</td>\n",
       "      <td>NaN</td>\n",
       "    </tr>\n",
       "    <tr>\n",
       "      <th>3</th>\n",
       "      <td>Mon Nov 02 07:09:13 +0000 2020</td>\n",
       "      <td>@JoshuaLee4rd @Plinz Covid-vaccines</td>\n",
       "      <td>NaN</td>\n",
       "    </tr>\n",
       "    <tr>\n",
       "      <th>4</th>\n",
       "      <td>Fri Nov 13 09:43:05 +0000 2020</td>\n",
       "      <td>Nigeria’s main priority is COVID-19 vaccine – VP Osinbajo https://t.co/q3LdWuuBG7</td>\n",
       "      <td>NaN</td>\n",
       "    </tr>\n",
       "  </tbody>\n",
       "</table>\n",
       "</div>"
      ],
      "text/plain": [
       "                       created_at  \\\n",
       "0  Thu Jan 14 08:45:00 +0000 2021   \n",
       "1  Fri Feb 05 19:04:02 +0000 2021   \n",
       "2  Fri Jan 01 01:23:19 +0000 2021   \n",
       "3  Mon Nov 02 07:09:13 +0000 2020   \n",
       "4  Fri Nov 13 09:43:05 +0000 2020   \n",
       "\n",
       "                                                                                                                                                                                                                                                                                                                                text  \\\n",
       "0                                                                                                                                                                                                                  Complaint against Mogoeng over COVID-19 vaccine comment escalated to JCC https://t.co/Tzo7EkpFYb via @ewnreporter   \n",
       "1  @JasonOverstreet @CNN @MSNBC @FOXNEWS - #QOP is unfit to govern! Incredibly, after 4 years of @SenateGOP ring kissing, enabling of Trump's American Carnage, silence during his deadly Covid negligence and witnessing VP Pence and Dems targeted by Trump for execution, not ONE @GOP vote for Simulus!! https://t.co/BPBT12wpbO   \n",
       "2                                                                                                                                                                                                                            @thehill FDA just approved the covid vaccine too. while it's in clinical trails. lol 2021, coming soon!   \n",
       "3                                                                                                                                                                                                                                                                                                @JoshuaLee4rd @Plinz Covid-vaccines   \n",
       "4                                                                                                                                                                                                                                                  Nigeria’s main priority is COVID-19 vaccine – VP Osinbajo https://t.co/q3LdWuuBG7   \n",
       "\n",
       "   Sentiments  \n",
       "0         NaN  \n",
       "1         NaN  \n",
       "2         NaN  \n",
       "3         NaN  \n",
       "4         NaN  "
      ]
     },
     "execution_count": 92,
     "metadata": {},
     "output_type": "execute_result"
    }
   ],
   "source": [
    "df_sample2 = df_sample2.reset_index(drop=True)\n",
    "df_sample2.head()"
   ]
  },
  {
   "cell_type": "code",
   "execution_count": 93,
   "metadata": {},
   "outputs": [
    {
     "data": {
      "text/plain": [
       "670466"
      ]
     },
     "execution_count": 93,
     "metadata": {},
     "output_type": "execute_result"
    }
   ],
   "source": [
    "len(text_list2)"
   ]
  },
  {
   "cell_type": "code",
   "execution_count": 94,
   "metadata": {},
   "outputs": [
    {
     "name": "stdout",
     "output_type": "stream",
     "text": [
      "0 %\n",
      "1 %\n",
      "2 %\n",
      "3 %\n",
      "4 %\n",
      "5 %\n",
      "6 %\n",
      "7 %\n",
      "8 %\n",
      "9 %\n",
      "10 %\n",
      "11 %\n",
      "12 %\n",
      "13 %\n",
      "14 %\n",
      "15 %\n",
      "16 %\n",
      "17 %\n",
      "18 %\n",
      "19 %\n",
      "20 %\n",
      "21 %\n",
      "22 %\n",
      "23 %\n",
      "24 %\n",
      "25 %\n",
      "26 %\n",
      "27 %\n",
      "28 %\n",
      "29 %\n",
      "30 %\n",
      "31 %\n",
      "32 %\n",
      "33 %\n",
      "34 %\n",
      "35 %\n",
      "36 %\n",
      "37 %\n",
      "38 %\n",
      "39 %\n",
      "40 %\n",
      "41 %\n",
      "42 %\n",
      "43 %\n",
      "44 %\n",
      "45 %\n",
      "46 %\n",
      "47 %\n",
      "48 %\n",
      "49 %\n",
      "50 %\n",
      "51 %\n",
      "52 %\n",
      "53 %\n",
      "54 %\n",
      "55 %\n",
      "56 %\n",
      "57 %\n",
      "58 %\n",
      "59 %\n",
      "60 %\n",
      "61 %\n",
      "62 %\n",
      "63 %\n",
      "64 %\n",
      "65 %\n",
      "66 %\n",
      "67 %\n",
      "68 %\n",
      "69 %\n",
      "70 %\n",
      "71 %\n",
      "72 %\n",
      "73 %\n",
      "74 %\n",
      "75 %\n",
      "76 %\n",
      "77 %\n",
      "78 %\n",
      "79 %\n",
      "80 %\n",
      "81 %\n",
      "82 %\n",
      "83 %\n",
      "84 %\n",
      "85 %\n",
      "86 %\n",
      "87 %\n",
      "88 %\n",
      "89 %\n",
      "90 %\n",
      "91 %\n",
      "92 %\n",
      "93 %\n",
      "94 %\n",
      "95 %\n",
      "96 %\n",
      "97 %\n",
      "98 %\n",
      "99 %\n",
      "100 %\n"
     ]
    }
   ],
   "source": [
    "sentiment = ['Neutral','Negative','Positive']\n",
    "for l in range(len(text_list2)):\n",
    "    seq = tokenize.texts_to_sequences([text_list2[l]])\n",
    "    tweet = pad_sequences(seq, maxlen=max_len)\n",
    "    df_sample2[\"Sentiments\"][l] = sentiment[np.around(mod2.predict(tweet), decimals=0).argmax(axis=1)[0]]\n",
    "    if (l % 6704 == 0):\n",
    "        perc = l/len(text_list2) * 100\n",
    "        f_perc = \"{:.0f}\".format(perc)\n",
    "        print(f_perc,\"%\")\n",
    "\n",
    "        \n",
    "final_df2 = df_sample2\n",
    "df_sample2.to_csv('df_sample2.csv', index=False)"
   ]
  },
  {
   "cell_type": "code",
   "execution_count": 95,
   "metadata": {},
   "outputs": [
    {
     "data": {
      "text/html": [
       "<div>\n",
       "<style scoped>\n",
       "    .dataframe tbody tr th:only-of-type {\n",
       "        vertical-align: middle;\n",
       "    }\n",
       "\n",
       "    .dataframe tbody tr th {\n",
       "        vertical-align: top;\n",
       "    }\n",
       "\n",
       "    .dataframe thead th {\n",
       "        text-align: right;\n",
       "    }\n",
       "</style>\n",
       "<table border=\"1\" class=\"dataframe\">\n",
       "  <thead>\n",
       "    <tr style=\"text-align: right;\">\n",
       "      <th></th>\n",
       "      <th>text</th>\n",
       "      <th>Sentiments</th>\n",
       "    </tr>\n",
       "  </thead>\n",
       "  <tbody>\n",
       "    <tr>\n",
       "      <th>0</th>\n",
       "      <td>Complaint against Mogoeng over COVID-19 vaccine comment escalated to JCC https://t.co/Tzo7EkpFYb via @ewnreporter</td>\n",
       "      <td>Neutral</td>\n",
       "    </tr>\n",
       "    <tr>\n",
       "      <th>1</th>\n",
       "      <td>@JasonOverstreet @CNN @MSNBC @FOXNEWS - #QOP is unfit to govern! Incredibly, after 4 years of @SenateGOP ring kissing, enabling of Trump's American Carnage, silence during his deadly Covid negligence and witnessing VP Pence and Dems targeted by Trump for execution, not ONE @GOP vote for Simulus!! https://t.co/BPBT12wpbO</td>\n",
       "      <td>Neutral</td>\n",
       "    </tr>\n",
       "    <tr>\n",
       "      <th>2</th>\n",
       "      <td>@thehill FDA just approved the covid vaccine too. while it's in clinical trails. lol 2021, coming soon!</td>\n",
       "      <td>Neutral</td>\n",
       "    </tr>\n",
       "    <tr>\n",
       "      <th>3</th>\n",
       "      <td>@JoshuaLee4rd @Plinz Covid-vaccines</td>\n",
       "      <td>Neutral</td>\n",
       "    </tr>\n",
       "    <tr>\n",
       "      <th>4</th>\n",
       "      <td>Nigeria’s main priority is COVID-19 vaccine – VP Osinbajo https://t.co/q3LdWuuBG7</td>\n",
       "      <td>Neutral</td>\n",
       "    </tr>\n",
       "    <tr>\n",
       "      <th>5</th>\n",
       "      <td>Would love if when you went to get a Covid vaccine, someone would be there. \"Welp, looks like on October 21, you said on Facebook that it was all a hoax and the vaccine was toxic\". Back of the line. Sorry.</td>\n",
       "      <td>Neutral</td>\n",
       "    </tr>\n",
       "    <tr>\n",
       "      <th>6</th>\n",
       "      <td>Petition: Prioritise teachers, school and childcare staff for Covid-19 vaccination https://t.co/imbtbl0hBd</td>\n",
       "      <td>Neutral</td>\n",
       "    </tr>\n",
       "    <tr>\n",
       "      <th>7</th>\n",
       "      <td>@amyyqin China kept deceiving the world &amp;amp; its own people that the virus is not human transferrable till Jan 20 while secretly started developing vaccines on Jan 4.\\nClick the below image for details. https://t.co/brGTqFsRJj</td>\n",
       "      <td>Neutral</td>\n",
       "    </tr>\n",
       "    <tr>\n",
       "      <th>8</th>\n",
       "      <td>via @PerilOfAfrica #InternationalNews #Coronaviruspandemic #Health China prepares large-scale rollout of coronavirus vaccines: 2020-12-06 04:21:24 In this Sept. 24, 2020, file photo, syringes of SARS CoV-2 Vaccine for COVID-19 produced by Sinovac are… https://t.co/SumX0SicnF https://t.co/v5RrtaYhlQ</td>\n",
       "      <td>Neutral</td>\n",
       "    </tr>\n",
       "    <tr>\n",
       "      <th>9</th>\n",
       "      <td>Just curious why 1 of third U.S military refusing covid19 vaccine?  Or is this just some rumours ?</td>\n",
       "      <td>Neutral</td>\n",
       "    </tr>\n",
       "    <tr>\n",
       "      <th>10</th>\n",
       "      <td>@namusefully raising awareness for covid-19 vaccines! https://t.co/WgC91AvZqc</td>\n",
       "      <td>Neutral</td>\n",
       "    </tr>\n",
       "    <tr>\n",
       "      <th>11</th>\n",
       "      <td>@sherwhizt @JEVLloyd @freespiritus Same but I question my sanity if it takes another year. I just need a vaccine shot to feel at least a little safer. My physical health is better &amp;amp; I had a Pneumonia shot in January so I probably won't die from #Covid19 but I refuse to be so careless as to get it from #Covidiots.</td>\n",
       "      <td>Neutral</td>\n",
       "    </tr>\n",
       "    <tr>\n",
       "      <th>12</th>\n",
       "      <td>@JamesDMayer2 @AC360 Trump claimed there is no Russian collusion- he was right,\\nTrump claimed Obama spied on his campaign- he was right\\nTrump claimed that there would be China covid vaccine before year end- he was right\\nTrump claimed this election is rigged- he is right</td>\n",
       "      <td>Neutral</td>\n",
       "    </tr>\n",
       "    <tr>\n",
       "      <th>13</th>\n",
       "      <td>How is a sitting US Senator allowed to violate @JoeBiden executive orders on international travel? https://t.co/1MbMaRExQP</td>\n",
       "      <td>Neutral</td>\n",
       "    </tr>\n",
       "    <tr>\n",
       "      <th>14</th>\n",
       "      <td>oh yea it’s a Australian COVID vaccine ad for no reason lol</td>\n",
       "      <td>Neutral</td>\n",
       "    </tr>\n",
       "  </tbody>\n",
       "</table>\n",
       "</div>"
      ],
      "text/plain": [
       "                                                                                                                                                                                                                                                                                                                                 text  \\\n",
       "0                                                                                                                                                                                                                   Complaint against Mogoeng over COVID-19 vaccine comment escalated to JCC https://t.co/Tzo7EkpFYb via @ewnreporter   \n",
       "1   @JasonOverstreet @CNN @MSNBC @FOXNEWS - #QOP is unfit to govern! Incredibly, after 4 years of @SenateGOP ring kissing, enabling of Trump's American Carnage, silence during his deadly Covid negligence and witnessing VP Pence and Dems targeted by Trump for execution, not ONE @GOP vote for Simulus!! https://t.co/BPBT12wpbO   \n",
       "2                                                                                                                                                                                                                             @thehill FDA just approved the covid vaccine too. while it's in clinical trails. lol 2021, coming soon!   \n",
       "3                                                                                                                                                                                                                                                                                                 @JoshuaLee4rd @Plinz Covid-vaccines   \n",
       "4                                                                                                                                                                                                                                                   Nigeria’s main priority is COVID-19 vaccine – VP Osinbajo https://t.co/q3LdWuuBG7   \n",
       "5                                                                                                                       Would love if when you went to get a Covid vaccine, someone would be there. \"Welp, looks like on October 21, you said on Facebook that it was all a hoax and the vaccine was toxic\". Back of the line. Sorry.   \n",
       "6                                                                                                                                                                                                                          Petition: Prioritise teachers, school and childcare staff for Covid-19 vaccination https://t.co/imbtbl0hBd   \n",
       "7                                                                                                 @amyyqin China kept deceiving the world &amp; its own people that the virus is not human transferrable till Jan 20 while secretly started developing vaccines on Jan 4.\\nClick the below image for details. https://t.co/brGTqFsRJj   \n",
       "8                         via @PerilOfAfrica #InternationalNews #Coronaviruspandemic #Health China prepares large-scale rollout of coronavirus vaccines: 2020-12-06 04:21:24 In this Sept. 24, 2020, file photo, syringes of SARS CoV-2 Vaccine for COVID-19 produced by Sinovac are… https://t.co/SumX0SicnF https://t.co/v5RrtaYhlQ   \n",
       "9                                                                                                                                                                                                                                  Just curious why 1 of third U.S military refusing covid19 vaccine?  Or is this just some rumours ?   \n",
       "10                                                                                                                                                                                                                                                      @namusefully raising awareness for covid-19 vaccines! https://t.co/WgC91AvZqc   \n",
       "11     @sherwhizt @JEVLloyd @freespiritus Same but I question my sanity if it takes another year. I just need a vaccine shot to feel at least a little safer. My physical health is better &amp; I had a Pneumonia shot in January so I probably won't die from #Covid19 but I refuse to be so careless as to get it from #Covidiots.   \n",
       "12                                                  @JamesDMayer2 @AC360 Trump claimed there is no Russian collusion- he was right,\\nTrump claimed Obama spied on his campaign- he was right\\nTrump claimed that there would be China covid vaccine before year end- he was right\\nTrump claimed this election is rigged- he is right   \n",
       "13                                                                                                                                                                                                         How is a sitting US Senator allowed to violate @JoeBiden executive orders on international travel? https://t.co/1MbMaRExQP   \n",
       "14                                                                                                                                                                                                                                                                        oh yea it’s a Australian COVID vaccine ad for no reason lol   \n",
       "\n",
       "   Sentiments  \n",
       "0     Neutral  \n",
       "1     Neutral  \n",
       "2     Neutral  \n",
       "3     Neutral  \n",
       "4     Neutral  \n",
       "5     Neutral  \n",
       "6     Neutral  \n",
       "7     Neutral  \n",
       "8     Neutral  \n",
       "9     Neutral  \n",
       "10    Neutral  \n",
       "11    Neutral  \n",
       "12    Neutral  \n",
       "13    Neutral  \n",
       "14    Neutral  "
      ]
     },
     "execution_count": 95,
     "metadata": {},
     "output_type": "execute_result"
    }
   ],
   "source": [
    "final_df2 = df_sample2\n",
    "df_sample2.to_csv('df_sample2.csv', index=False)\n",
    "\n",
    "tweet_sent2 = pd.read_csv('df_sample2.csv')\n",
    "\n",
    "pd.set_option('display.max_colwidth', None)\n",
    "tweet_sent2[[\"text\", \"Sentiments\"]].head(15)"
   ]
  },
  {
   "cell_type": "code",
   "execution_count": 96,
   "metadata": {},
   "outputs": [
    {
     "data": {
      "text/html": [
       "<div>\n",
       "<style scoped>\n",
       "    .dataframe tbody tr th:only-of-type {\n",
       "        vertical-align: middle;\n",
       "    }\n",
       "\n",
       "    .dataframe tbody tr th {\n",
       "        vertical-align: top;\n",
       "    }\n",
       "\n",
       "    .dataframe thead th {\n",
       "        text-align: right;\n",
       "    }\n",
       "</style>\n",
       "<table border=\"1\" class=\"dataframe\">\n",
       "  <thead>\n",
       "    <tr style=\"text-align: right;\">\n",
       "      <th></th>\n",
       "      <th>created_at</th>\n",
       "      <th>text</th>\n",
       "    </tr>\n",
       "    <tr>\n",
       "      <th>Sentiments</th>\n",
       "      <th></th>\n",
       "      <th></th>\n",
       "    </tr>\n",
       "  </thead>\n",
       "  <tbody>\n",
       "    <tr>\n",
       "      <th>Negative</th>\n",
       "      <td>3165</td>\n",
       "      <td>3142</td>\n",
       "    </tr>\n",
       "    <tr>\n",
       "      <th>Neutral</th>\n",
       "      <td>644539</td>\n",
       "      <td>661396</td>\n",
       "    </tr>\n",
       "    <tr>\n",
       "      <th>Positive</th>\n",
       "      <td>1703</td>\n",
       "      <td>1704</td>\n",
       "    </tr>\n",
       "  </tbody>\n",
       "</table>\n",
       "</div>"
      ],
      "text/plain": [
       "            created_at    text\n",
       "Sentiments                    \n",
       "Negative          3165    3142\n",
       "Neutral         644539  661396\n",
       "Positive          1703    1704"
      ]
     },
     "execution_count": 96,
     "metadata": {},
     "output_type": "execute_result"
    }
   ],
   "source": [
    "# Sentiment Counts\n",
    "tweet_sent2.groupby('Sentiments').nunique()"
   ]
  },
  {
   "cell_type": "code",
   "execution_count": 97,
   "metadata": {},
   "outputs": [
    {
     "data": {
      "text/html": [
       "<div>\n",
       "<style scoped>\n",
       "    .dataframe tbody tr th:only-of-type {\n",
       "        vertical-align: middle;\n",
       "    }\n",
       "\n",
       "    .dataframe tbody tr th {\n",
       "        vertical-align: top;\n",
       "    }\n",
       "\n",
       "    .dataframe thead th {\n",
       "        text-align: right;\n",
       "    }\n",
       "</style>\n",
       "<table border=\"1\" class=\"dataframe\">\n",
       "  <thead>\n",
       "    <tr style=\"text-align: right;\">\n",
       "      <th></th>\n",
       "      <th>created_at</th>\n",
       "      <th>text</th>\n",
       "      <th>Sentiments</th>\n",
       "    </tr>\n",
       "  </thead>\n",
       "  <tbody>\n",
       "    <tr>\n",
       "      <th>245</th>\n",
       "      <td>Thu Dec 24 21:51:44 +0000 2020</td>\n",
       "      <td>@CDCgov I'm not getting vaccine so..</td>\n",
       "      <td>Negative</td>\n",
       "    </tr>\n",
       "    <tr>\n",
       "      <th>334</th>\n",
       "      <td>Fri Mar 05 15:44:05 +0000 2021</td>\n",
       "      <td>Nigeria commences COVID-19 vaccination - https://t.co/yFa5YOrETD</td>\n",
       "      <td>Negative</td>\n",
       "    </tr>\n",
       "    <tr>\n",
       "      <th>477</th>\n",
       "      <td>Sun Feb 14 15:13:02 +0000 2021</td>\n",
       "      <td>Covid: Claims vaccinations harm fertility unfounded https://t.co/Wl6MYlD8tI</td>\n",
       "      <td>Negative</td>\n",
       "    </tr>\n",
       "    <tr>\n",
       "      <th>604</th>\n",
       "      <td>Wed Nov 18 18:04:41 +0000 2020</td>\n",
       "      <td>2k tournament https://t.co/iznyvkyNwm</td>\n",
       "      <td>Negative</td>\n",
       "    </tr>\n",
       "    <tr>\n",
       "      <th>744</th>\n",
       "      <td>Wed Mar 03 18:05:54 +0000 2021</td>\n",
       "      <td>Petition: Do not rollout Covid-19 vaccine passports https://t.co/HlKiBL9Bwy</td>\n",
       "      <td>Negative</td>\n",
       "    </tr>\n",
       "    <tr>\n",
       "      <th>859</th>\n",
       "      <td>Mon Feb 08 10:34:16 +0000 2021</td>\n",
       "      <td>Disability Partnership Calderdale newsletter 05 February 2021\\n@disabilitypartnershipcalderdale @coronavirus @vaccine @consultations @usefulinfo\\n#disabilitypartnershipcalderdale #coronavirus #vaccine #consultations #usefulinfo https://t.co/CwsL6AJVnz</td>\n",
       "      <td>Negative</td>\n",
       "    </tr>\n",
       "    <tr>\n",
       "      <th>1386</th>\n",
       "      <td>Tue Mar 09 20:38:11 +0000 2021</td>\n",
       "      <td>PHOTOS: Osun receives COVID-19 vaccine https://t.co/7hHYvNT7Kp</td>\n",
       "      <td>Negative</td>\n",
       "    </tr>\n",
       "    <tr>\n",
       "      <th>1474</th>\n",
       "      <td>Wed Feb 10 15:24:10 +0000 2021</td>\n",
       "      <td>Ist dose covid vaccine https://t.co/9KbcJG4TJO</td>\n",
       "      <td>Negative</td>\n",
       "    </tr>\n",
       "    <tr>\n",
       "      <th>1637</th>\n",
       "      <td>Thu Mar 11 10:06:42 +0000 2021</td>\n",
       "      <td>Taraba receive 56,250 AstraZeneca COVID-19 vaccine https://t.co/LemcaKjHW1</td>\n",
       "      <td>Negative</td>\n",
       "    </tr>\n",
       "    <tr>\n",
       "      <th>1847</th>\n",
       "      <td>Tue Nov 17 12:42:06 +0000 2020</td>\n",
       "      <td>Trump's transition sabotage threatens vaccine rollout #SmartNews  https://t.co/xmv9uPb8V1</td>\n",
       "      <td>Negative</td>\n",
       "    </tr>\n",
       "    <tr>\n",
       "      <th>1856</th>\n",
       "      <td>Sat Jan 23 11:18:09 +0000 2021</td>\n",
       "      <td>Petition: Do not rollout Covid-19 vaccine passports https://t.co/N7uJXT4aOo</td>\n",
       "      <td>Negative</td>\n",
       "    </tr>\n",
       "    <tr>\n",
       "      <th>1954</th>\n",
       "      <td>Thu Jan 28 07:23:28 +0000 2021</td>\n",
       "      <td>I’m not taking no damn covid vaccine.</td>\n",
       "      <td>Negative</td>\n",
       "    </tr>\n",
       "    <tr>\n",
       "      <th>1958</th>\n",
       "      <td>Tue Dec 08 07:22:24 +0000 2020</td>\n",
       "      <td>Trump #TrumpIsACompleteFailure #PearlHarborRemembranceDay #PearlHarbor #Pfizervaccine #Pfizer #MedalOfFreedom https://t.co/VoMPtgfcKg</td>\n",
       "      <td>Negative</td>\n",
       "    </tr>\n",
       "    <tr>\n",
       "      <th>2020</th>\n",
       "      <td>Sun Mar 07 22:50:37 +0000 2021</td>\n",
       "      <td>@poopulus @Daniel33490456 @ArnaldoJRibeiro Covid</td>\n",
       "      <td>Negative</td>\n",
       "    </tr>\n",
       "    <tr>\n",
       "      <th>2412</th>\n",
       "      <td>Fri Nov 20 23:02:16 +0000 2020</td>\n",
       "      <td>Part 1 #COVID19 #vaccine #CovidVaccine https://t.co/ndbeF3OWBc</td>\n",
       "      <td>Negative</td>\n",
       "    </tr>\n",
       "    <tr>\n",
       "      <th>2428</th>\n",
       "      <td>Tue Mar 09 15:35:56 +0000 2021</td>\n",
       "      <td>@jefftaylorhuman \"history humbles vaccine scientists\"       https://t.co/cRwwjkWYdy</td>\n",
       "      <td>Negative</td>\n",
       "    </tr>\n",
       "    <tr>\n",
       "      <th>2719</th>\n",
       "      <td>Wed Jan 20 11:01:55 +0000 2021</td>\n",
       "      <td>Stunning Caribbean - Aruba \\n@travelbugexplore⁠ @aruba @visitaruba\\n#capabletravel #aruba #visitaruba #netherlands #caribbeansea #travelbugexplore #caribbean  #islandvibes #coronavirus #vaccine #cntraveller #cntraveler #holidays2021 #travelblogger #Openforhapiness #Onehappyisland https://t.co/OUjw5yZjLz</td>\n",
       "      <td>Negative</td>\n",
       "    </tr>\n",
       "    <tr>\n",
       "      <th>2760</th>\n",
       "      <td>Sat Dec 26 09:12:37 +0000 2020</td>\n",
       "      <td>@Bulawayo24News Covid 19 vaccine</td>\n",
       "      <td>Negative</td>\n",
       "    </tr>\n",
       "    <tr>\n",
       "      <th>3055</th>\n",
       "      <td>Sun Dec 20 02:07:40 +0000 2020</td>\n",
       "      <td>Coronavirus: Trump's Covid vaccine chief admits delivery mistake https://t.co/mcEmhw7UBZ</td>\n",
       "      <td>Negative</td>\n",
       "    </tr>\n",
       "    <tr>\n",
       "      <th>3186</th>\n",
       "      <td>Thu Nov 26 18:02:11 +0000 2020</td>\n",
       "      <td>Oxford/AstraZeneca Covid vaccine 'dose error' explained https://t.co/nWAi7U5Lx4</td>\n",
       "      <td>Negative</td>\n",
       "    </tr>\n",
       "  </tbody>\n",
       "</table>\n",
       "</div>"
      ],
      "text/plain": [
       "                          created_at  \\\n",
       "245   Thu Dec 24 21:51:44 +0000 2020   \n",
       "334   Fri Mar 05 15:44:05 +0000 2021   \n",
       "477   Sun Feb 14 15:13:02 +0000 2021   \n",
       "604   Wed Nov 18 18:04:41 +0000 2020   \n",
       "744   Wed Mar 03 18:05:54 +0000 2021   \n",
       "859   Mon Feb 08 10:34:16 +0000 2021   \n",
       "1386  Tue Mar 09 20:38:11 +0000 2021   \n",
       "1474  Wed Feb 10 15:24:10 +0000 2021   \n",
       "1637  Thu Mar 11 10:06:42 +0000 2021   \n",
       "1847  Tue Nov 17 12:42:06 +0000 2020   \n",
       "1856  Sat Jan 23 11:18:09 +0000 2021   \n",
       "1954  Thu Jan 28 07:23:28 +0000 2021   \n",
       "1958  Tue Dec 08 07:22:24 +0000 2020   \n",
       "2020  Sun Mar 07 22:50:37 +0000 2021   \n",
       "2412  Fri Nov 20 23:02:16 +0000 2020   \n",
       "2428  Tue Mar 09 15:35:56 +0000 2021   \n",
       "2719  Wed Jan 20 11:01:55 +0000 2021   \n",
       "2760  Sat Dec 26 09:12:37 +0000 2020   \n",
       "3055  Sun Dec 20 02:07:40 +0000 2020   \n",
       "3186  Thu Nov 26 18:02:11 +0000 2020   \n",
       "\n",
       "                                                                                                                                                                                                                                                                                                                  text  \\\n",
       "245                                                                                                                                                                                                                                                                               @CDCgov I'm not getting vaccine so..   \n",
       "334                                                                                                                                                                                                                                                   Nigeria commences COVID-19 vaccination - https://t.co/yFa5YOrETD   \n",
       "477                                                                                                                                                                                                                                        Covid: Claims vaccinations harm fertility unfounded https://t.co/Wl6MYlD8tI   \n",
       "604                                                                                                                                                                                                                                                                              2k tournament https://t.co/iznyvkyNwm   \n",
       "744                                                                                                                                                                                                                                        Petition: Do not rollout Covid-19 vaccine passports https://t.co/HlKiBL9Bwy   \n",
       "859                                                        Disability Partnership Calderdale newsletter 05 February 2021\\n@disabilitypartnershipcalderdale @coronavirus @vaccine @consultations @usefulinfo\\n#disabilitypartnershipcalderdale #coronavirus #vaccine #consultations #usefulinfo https://t.co/CwsL6AJVnz   \n",
       "1386                                                                                                                                                                                                                                                    PHOTOS: Osun receives COVID-19 vaccine https://t.co/7hHYvNT7Kp   \n",
       "1474                                                                                                                                                                                                                                                                    Ist dose covid vaccine https://t.co/9KbcJG4TJO   \n",
       "1637                                                                                                                                                                                                                                        Taraba receive 56,250 AstraZeneca COVID-19 vaccine https://t.co/LemcaKjHW1   \n",
       "1847                                                                                                                                                                                                                         Trump's transition sabotage threatens vaccine rollout #SmartNews  https://t.co/xmv9uPb8V1   \n",
       "1856                                                                                                                                                                                                                                       Petition: Do not rollout Covid-19 vaccine passports https://t.co/N7uJXT4aOo   \n",
       "1954                                                                                                                                                                                                                                                                             I’m not taking no damn covid vaccine.   \n",
       "1958                                                                                                                                                                             Trump #TrumpIsACompleteFailure #PearlHarborRemembranceDay #PearlHarbor #Pfizervaccine #Pfizer #MedalOfFreedom https://t.co/VoMPtgfcKg   \n",
       "2020                                                                                                                                                                                                                                                                  @poopulus @Daniel33490456 @ArnaldoJRibeiro Covid   \n",
       "2412                                                                                                                                                                                                                                                    Part 1 #COVID19 #vaccine #CovidVaccine https://t.co/ndbeF3OWBc   \n",
       "2428                                                                                                                                                                                                                               @jefftaylorhuman \"history humbles vaccine scientists\"       https://t.co/cRwwjkWYdy   \n",
       "2719  Stunning Caribbean - Aruba \\n@travelbugexplore⁠ @aruba @visitaruba\\n#capabletravel #aruba #visitaruba #netherlands #caribbeansea #travelbugexplore #caribbean  #islandvibes #coronavirus #vaccine #cntraveller #cntraveler #holidays2021 #travelblogger #Openforhapiness #Onehappyisland https://t.co/OUjw5yZjLz   \n",
       "2760                                                                                                                                                                                                                                                                                  @Bulawayo24News Covid 19 vaccine   \n",
       "3055                                                                                                                                                                                                                          Coronavirus: Trump's Covid vaccine chief admits delivery mistake https://t.co/mcEmhw7UBZ   \n",
       "3186                                                                                                                                                                                                                                   Oxford/AstraZeneca Covid vaccine 'dose error' explained https://t.co/nWAi7U5Lx4   \n",
       "\n",
       "     Sentiments  \n",
       "245    Negative  \n",
       "334    Negative  \n",
       "477    Negative  \n",
       "604    Negative  \n",
       "744    Negative  \n",
       "859    Negative  \n",
       "1386   Negative  \n",
       "1474   Negative  \n",
       "1637   Negative  \n",
       "1847   Negative  \n",
       "1856   Negative  \n",
       "1954   Negative  \n",
       "1958   Negative  \n",
       "2020   Negative  \n",
       "2412   Negative  \n",
       "2428   Negative  \n",
       "2719   Negative  \n",
       "2760   Negative  \n",
       "3055   Negative  \n",
       "3186   Negative  "
      ]
     },
     "execution_count": 97,
     "metadata": {},
     "output_type": "execute_result"
    }
   ],
   "source": [
    "tweet_sent2[tweet_sent2[\"Sentiments\"] == \"Negative\"].head(20)"
   ]
  },
  {
   "cell_type": "code",
   "execution_count": null,
   "metadata": {},
   "outputs": [],
   "source": []
  }
 ],
 "metadata": {
  "kernelspec": {
   "display_name": "Python 3",
   "language": "python",
   "name": "python3"
  },
  "language_info": {
   "codemirror_mode": {
    "name": "ipython",
    "version": 3
   },
   "file_extension": ".py",
   "mimetype": "text/x-python",
   "name": "python",
   "nbconvert_exporter": "python",
   "pygments_lexer": "ipython3",
   "version": "3.7.4"
  }
 },
 "nbformat": 4,
 "nbformat_minor": 4
}
