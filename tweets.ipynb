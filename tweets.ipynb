{
 "cells": [
  {
   "cell_type": "markdown",
   "metadata": {},
   "source": [
    "### Sentiment Analysis of COVID-19 Vaccine Tweets\n",
    "Gourav Verma<br>\n",
    "DSC-680 T302, Spring 21<br>\n",
    "Prof Fadi Alsaleem"
   ]
  },
  {
   "cell_type": "code",
   "execution_count": 1,
   "metadata": {},
   "outputs": [
    {
     "name": "stderr",
     "output_type": "stream",
     "text": [
      "C:\\Users\\goura\\Anaconda3\\lib\\site-packages\\gensim\\similarities\\__init__.py:15: UserWarning: The gensim.similarities.levenshtein submodule is disabled, because the optional Levenshtein package <https://pypi.org/project/python-Levenshtein/> is unavailable. Install Levenhstein (e.g. `pip install python-Levenshtein`) to suppress this warning.\n",
      "  warnings.warn(msg)\n"
     ]
    }
   ],
   "source": [
    "# Import important libraries\n",
    "import requests\n",
    "import pandas as pd\n",
    "import numpy as np\n",
    "import matplotlib.pyplot as plt\n",
    "import plotly.express as px\n",
    "import plotly as pl\n",
    "import re\n",
    "import datetime\n",
    "\n",
    "import nltk\n",
    "from nltk.corpus import wordnet\n",
    "from nltk.stem import WordNetLemmatizer\n",
    "from nltk.stem import LancasterStemmer\n",
    "from nltk.tokenize.treebank import TreebankWordDetokenizer\n",
    "from collections import Counter\n",
    "from wordcloud import WordCloud\n",
    "from nltk.corpus import stopwords\n",
    "import gensim\n",
    "from gensim.utils import simple_preprocess\n",
    "from sklearn.model_selection import train_test_split\n",
    "#import spacy\n",
    "import pickle\n",
    "\n",
    "import tensorflow as tf\n",
    "import keras\n",
    "from keras.utils.vis_utils import plot_model\n",
    "\n",
    "import seaborn as sns\n",
    "from sklearn.metrics import confusion_matrix\n",
    "\n",
    "import warnings\n",
    "warnings.filterwarnings('ignore')\n",
    "warnings.simplefilter(action='ignore', category=FutureWarning)"
   ]
  },
  {
   "cell_type": "markdown",
   "metadata": {},
   "source": [
    "### Read COVID-19 Vaccine Tweets dataset"
   ]
  },
  {
   "cell_type": "code",
   "execution_count": 2,
   "metadata": {},
   "outputs": [
    {
     "data": {
      "text/html": [
       "<div>\n",
       "<style scoped>\n",
       "    .dataframe tbody tr th:only-of-type {\n",
       "        vertical-align: middle;\n",
       "    }\n",
       "\n",
       "    .dataframe tbody tr th {\n",
       "        vertical-align: top;\n",
       "    }\n",
       "\n",
       "    .dataframe thead th {\n",
       "        text-align: right;\n",
       "    }\n",
       "</style>\n",
       "<table border=\"1\" class=\"dataframe\">\n",
       "  <thead>\n",
       "    <tr style=\"text-align: right;\">\n",
       "      <th></th>\n",
       "      <th>id</th>\n",
       "      <th>user_name</th>\n",
       "      <th>user_location</th>\n",
       "      <th>user_description</th>\n",
       "      <th>user_created</th>\n",
       "      <th>user_followers</th>\n",
       "      <th>user_friends</th>\n",
       "      <th>user_favourites</th>\n",
       "      <th>user_verified</th>\n",
       "      <th>date</th>\n",
       "      <th>text</th>\n",
       "      <th>hashtags</th>\n",
       "      <th>source</th>\n",
       "      <th>retweets</th>\n",
       "      <th>favorites</th>\n",
       "      <th>is_retweet</th>\n",
       "    </tr>\n",
       "  </thead>\n",
       "  <tbody>\n",
       "    <tr>\n",
       "      <th>0</th>\n",
       "      <td>1340539111971516416</td>\n",
       "      <td>Rachel Roh</td>\n",
       "      <td>La Crescenta-Montrose, CA</td>\n",
       "      <td>Aggregator of Asian American news; scanning di...</td>\n",
       "      <td>2009-04-08 17:52:46</td>\n",
       "      <td>405</td>\n",
       "      <td>1692</td>\n",
       "      <td>3247</td>\n",
       "      <td>False</td>\n",
       "      <td>2020-12-20 06:06:44</td>\n",
       "      <td>Same folks said daikon paste could treat a cyt...</td>\n",
       "      <td>['PfizerBioNTech']</td>\n",
       "      <td>Twitter for Android</td>\n",
       "      <td>0</td>\n",
       "      <td>0</td>\n",
       "      <td>False</td>\n",
       "    </tr>\n",
       "    <tr>\n",
       "      <th>1</th>\n",
       "      <td>1338158543359250433</td>\n",
       "      <td>Albert Fong</td>\n",
       "      <td>San Francisco, CA</td>\n",
       "      <td>Marketing dude, tech geek, heavy metal &amp; '80s ...</td>\n",
       "      <td>2009-09-21 15:27:30</td>\n",
       "      <td>834</td>\n",
       "      <td>666</td>\n",
       "      <td>178</td>\n",
       "      <td>False</td>\n",
       "      <td>2020-12-13 16:27:13</td>\n",
       "      <td>While the world has been on the wrong side of ...</td>\n",
       "      <td>NaN</td>\n",
       "      <td>Twitter Web App</td>\n",
       "      <td>1</td>\n",
       "      <td>1</td>\n",
       "      <td>False</td>\n",
       "    </tr>\n",
       "    <tr>\n",
       "      <th>2</th>\n",
       "      <td>1337858199140118533</td>\n",
       "      <td>eli🇱🇹🇪🇺👌</td>\n",
       "      <td>Your Bed</td>\n",
       "      <td>heil, hydra 🖐☺</td>\n",
       "      <td>2020-06-25 23:30:28</td>\n",
       "      <td>10</td>\n",
       "      <td>88</td>\n",
       "      <td>155</td>\n",
       "      <td>False</td>\n",
       "      <td>2020-12-12 20:33:45</td>\n",
       "      <td>#coronavirus #SputnikV #AstraZeneca #PfizerBio...</td>\n",
       "      <td>['coronavirus', 'SputnikV', 'AstraZeneca', 'Pf...</td>\n",
       "      <td>Twitter for Android</td>\n",
       "      <td>0</td>\n",
       "      <td>0</td>\n",
       "      <td>False</td>\n",
       "    </tr>\n",
       "    <tr>\n",
       "      <th>3</th>\n",
       "      <td>1337855739918835717</td>\n",
       "      <td>Charles Adler</td>\n",
       "      <td>Vancouver, BC - Canada</td>\n",
       "      <td>Hosting \"CharlesAdlerTonight\" Global News Radi...</td>\n",
       "      <td>2008-09-10 11:28:53</td>\n",
       "      <td>49165</td>\n",
       "      <td>3933</td>\n",
       "      <td>21853</td>\n",
       "      <td>True</td>\n",
       "      <td>2020-12-12 20:23:59</td>\n",
       "      <td>Facts are immutable, Senator, even when you're...</td>\n",
       "      <td>NaN</td>\n",
       "      <td>Twitter Web App</td>\n",
       "      <td>446</td>\n",
       "      <td>2129</td>\n",
       "      <td>False</td>\n",
       "    </tr>\n",
       "    <tr>\n",
       "      <th>4</th>\n",
       "      <td>1337854064604966912</td>\n",
       "      <td>Citizen News Channel</td>\n",
       "      <td>NaN</td>\n",
       "      <td>Citizen News Channel bringing you an alternati...</td>\n",
       "      <td>2020-04-23 17:58:42</td>\n",
       "      <td>152</td>\n",
       "      <td>580</td>\n",
       "      <td>1473</td>\n",
       "      <td>False</td>\n",
       "      <td>2020-12-12 20:17:19</td>\n",
       "      <td>Explain to me again why we need a vaccine @Bor...</td>\n",
       "      <td>['whereareallthesickpeople', 'PfizerBioNTech']</td>\n",
       "      <td>Twitter for iPhone</td>\n",
       "      <td>0</td>\n",
       "      <td>0</td>\n",
       "      <td>False</td>\n",
       "    </tr>\n",
       "  </tbody>\n",
       "</table>\n",
       "</div>"
      ],
      "text/plain": [
       "                    id             user_name              user_location  \\\n",
       "0  1340539111971516416            Rachel Roh  La Crescenta-Montrose, CA   \n",
       "1  1338158543359250433           Albert Fong          San Francisco, CA   \n",
       "2  1337858199140118533              eli🇱🇹🇪🇺👌                   Your Bed   \n",
       "3  1337855739918835717         Charles Adler     Vancouver, BC - Canada   \n",
       "4  1337854064604966912  Citizen News Channel                        NaN   \n",
       "\n",
       "                                    user_description         user_created  \\\n",
       "0  Aggregator of Asian American news; scanning di...  2009-04-08 17:52:46   \n",
       "1  Marketing dude, tech geek, heavy metal & '80s ...  2009-09-21 15:27:30   \n",
       "2                                     heil, hydra 🖐☺  2020-06-25 23:30:28   \n",
       "3  Hosting \"CharlesAdlerTonight\" Global News Radi...  2008-09-10 11:28:53   \n",
       "4  Citizen News Channel bringing you an alternati...  2020-04-23 17:58:42   \n",
       "\n",
       "   user_followers  user_friends  user_favourites  user_verified  \\\n",
       "0             405          1692             3247          False   \n",
       "1             834           666              178          False   \n",
       "2              10            88              155          False   \n",
       "3           49165          3933            21853           True   \n",
       "4             152           580             1473          False   \n",
       "\n",
       "                  date                                               text  \\\n",
       "0  2020-12-20 06:06:44  Same folks said daikon paste could treat a cyt...   \n",
       "1  2020-12-13 16:27:13  While the world has been on the wrong side of ...   \n",
       "2  2020-12-12 20:33:45  #coronavirus #SputnikV #AstraZeneca #PfizerBio...   \n",
       "3  2020-12-12 20:23:59  Facts are immutable, Senator, even when you're...   \n",
       "4  2020-12-12 20:17:19  Explain to me again why we need a vaccine @Bor...   \n",
       "\n",
       "                                            hashtags               source  \\\n",
       "0                                 ['PfizerBioNTech']  Twitter for Android   \n",
       "1                                                NaN      Twitter Web App   \n",
       "2  ['coronavirus', 'SputnikV', 'AstraZeneca', 'Pf...  Twitter for Android   \n",
       "3                                                NaN      Twitter Web App   \n",
       "4     ['whereareallthesickpeople', 'PfizerBioNTech']   Twitter for iPhone   \n",
       "\n",
       "   retweets  favorites  is_retweet  \n",
       "0         0          0       False  \n",
       "1         1          1       False  \n",
       "2         0          0       False  \n",
       "3       446       2129       False  \n",
       "4         0          0       False  "
      ]
     },
     "execution_count": 2,
     "metadata": {},
     "output_type": "execute_result"
    }
   ],
   "source": [
    "# Read the data\n",
    "raw_df = pd.read_csv(\"vaccination_all_tweets.csv\")\n",
    "raw_df.head()"
   ]
  },
  {
   "cell_type": "code",
   "execution_count": 3,
   "metadata": {},
   "outputs": [
    {
     "name": "stdout",
     "output_type": "stream",
     "text": [
      "<class 'pandas.core.frame.DataFrame'>\n",
      "RangeIndex: 69718 entries, 0 to 69717\n",
      "Data columns (total 16 columns):\n",
      " #   Column            Non-Null Count  Dtype \n",
      "---  ------            --------------  ----- \n",
      " 0   id                69718 non-null  int64 \n",
      " 1   user_name         69718 non-null  object\n",
      " 2   user_location     53891 non-null  object\n",
      " 3   user_description  64846 non-null  object\n",
      " 4   user_created      69718 non-null  object\n",
      " 5   user_followers    69718 non-null  int64 \n",
      " 6   user_friends      69718 non-null  int64 \n",
      " 7   user_favourites   69718 non-null  int64 \n",
      " 8   user_verified     69718 non-null  bool  \n",
      " 9   date              69718 non-null  object\n",
      " 10  text              69718 non-null  object\n",
      " 11  hashtags          54904 non-null  object\n",
      " 12  source            69599 non-null  object\n",
      " 13  retweets          69718 non-null  int64 \n",
      " 14  favorites         69718 non-null  int64 \n",
      " 15  is_retweet        69718 non-null  bool  \n",
      "dtypes: bool(2), int64(6), object(8)\n",
      "memory usage: 7.6+ MB\n"
     ]
    }
   ],
   "source": [
    "raw_df.info()"
   ]
  },
  {
   "cell_type": "markdown",
   "metadata": {},
   "source": [
    "## Sentiment Analysis"
   ]
  },
  {
   "cell_type": "markdown",
   "metadata": {},
   "source": [
    "### Read train dataset for tweets\n",
    "Downloaded from: https://www.kaggle.com/c/tweet-sentiment-extraction <br>\n",
    "We will use if only to train our model. Not for sentiment analysis"
   ]
  },
  {
   "cell_type": "code",
   "execution_count": 4,
   "metadata": {},
   "outputs": [],
   "source": [
    "tweet_train = pd.read_csv(\"train.csv\")"
   ]
  },
  {
   "cell_type": "code",
   "execution_count": 5,
   "metadata": {},
   "outputs": [
    {
     "data": {
      "text/html": [
       "<div>\n",
       "<style scoped>\n",
       "    .dataframe tbody tr th:only-of-type {\n",
       "        vertical-align: middle;\n",
       "    }\n",
       "\n",
       "    .dataframe tbody tr th {\n",
       "        vertical-align: top;\n",
       "    }\n",
       "\n",
       "    .dataframe thead th {\n",
       "        text-align: right;\n",
       "    }\n",
       "</style>\n",
       "<table border=\"1\" class=\"dataframe\">\n",
       "  <thead>\n",
       "    <tr style=\"text-align: right;\">\n",
       "      <th></th>\n",
       "      <th>textID</th>\n",
       "      <th>text</th>\n",
       "      <th>selected_text</th>\n",
       "      <th>sentiment</th>\n",
       "    </tr>\n",
       "  </thead>\n",
       "  <tbody>\n",
       "    <tr>\n",
       "      <th>0</th>\n",
       "      <td>cb774db0d1</td>\n",
       "      <td>I`d have responded, if I were going</td>\n",
       "      <td>I`d have responded, if I were going</td>\n",
       "      <td>neutral</td>\n",
       "    </tr>\n",
       "    <tr>\n",
       "      <th>1</th>\n",
       "      <td>549e992a42</td>\n",
       "      <td>Sooo SAD I will miss you here in San Diego!!!</td>\n",
       "      <td>Sooo SAD</td>\n",
       "      <td>negative</td>\n",
       "    </tr>\n",
       "    <tr>\n",
       "      <th>2</th>\n",
       "      <td>088c60f138</td>\n",
       "      <td>my boss is bullying me...</td>\n",
       "      <td>bullying me</td>\n",
       "      <td>negative</td>\n",
       "    </tr>\n",
       "    <tr>\n",
       "      <th>3</th>\n",
       "      <td>9642c003ef</td>\n",
       "      <td>what interview! leave me alone</td>\n",
       "      <td>leave me alone</td>\n",
       "      <td>negative</td>\n",
       "    </tr>\n",
       "    <tr>\n",
       "      <th>4</th>\n",
       "      <td>358bd9e861</td>\n",
       "      <td>Sons of ****, why couldn`t they put them on t...</td>\n",
       "      <td>Sons of ****,</td>\n",
       "      <td>negative</td>\n",
       "    </tr>\n",
       "  </tbody>\n",
       "</table>\n",
       "</div>"
      ],
      "text/plain": [
       "       textID                                               text  \\\n",
       "0  cb774db0d1                I`d have responded, if I were going   \n",
       "1  549e992a42      Sooo SAD I will miss you here in San Diego!!!   \n",
       "2  088c60f138                          my boss is bullying me...   \n",
       "3  9642c003ef                     what interview! leave me alone   \n",
       "4  358bd9e861   Sons of ****, why couldn`t they put them on t...   \n",
       "\n",
       "                         selected_text sentiment  \n",
       "0  I`d have responded, if I were going   neutral  \n",
       "1                             Sooo SAD  negative  \n",
       "2                          bullying me  negative  \n",
       "3                       leave me alone  negative  \n",
       "4                        Sons of ****,  negative  "
      ]
     },
     "execution_count": 5,
     "metadata": {},
     "output_type": "execute_result"
    }
   ],
   "source": [
    "tweet_train.head()"
   ]
  },
  {
   "cell_type": "code",
   "execution_count": 6,
   "metadata": {},
   "outputs": [
    {
     "data": {
      "text/plain": [
       "<AxesSubplot:>"
      ]
     },
     "execution_count": 6,
     "metadata": {},
     "output_type": "execute_result"
    },
    {
     "data": {
      "image/png": "[encoded data removed]",
      "text/plain": [
       "<Figure size 432x288 with 1 Axes>"
      ]
     },
     "metadata": {
      "needs_background": "light"
     },
     "output_type": "display_data"
    }
   ],
   "source": [
    "# Bar plot of sentiments\n",
    "fig, ax = plt.subplots()\n",
    "tweet_train['sentiment'].value_counts().plot(ax=ax, kind='bar')"
   ]
  },
  {
   "cell_type": "code",
   "execution_count": 7,
   "metadata": {},
   "outputs": [
    {
     "data": {
      "text/html": [
       "<div>\n",
       "<style scoped>\n",
       "    .dataframe tbody tr th:only-of-type {\n",
       "        vertical-align: middle;\n",
       "    }\n",
       "\n",
       "    .dataframe tbody tr th {\n",
       "        vertical-align: top;\n",
       "    }\n",
       "\n",
       "    .dataframe thead th {\n",
       "        text-align: right;\n",
       "    }\n",
       "</style>\n",
       "<table border=\"1\" class=\"dataframe\">\n",
       "  <thead>\n",
       "    <tr style=\"text-align: right;\">\n",
       "      <th></th>\n",
       "      <th>selected_text</th>\n",
       "      <th>sentiment</th>\n",
       "    </tr>\n",
       "  </thead>\n",
       "  <tbody>\n",
       "    <tr>\n",
       "      <th>0</th>\n",
       "      <td>I`d have responded, if I were going</td>\n",
       "      <td>neutral</td>\n",
       "    </tr>\n",
       "    <tr>\n",
       "      <th>1</th>\n",
       "      <td>Sooo SAD</td>\n",
       "      <td>negative</td>\n",
       "    </tr>\n",
       "    <tr>\n",
       "      <th>2</th>\n",
       "      <td>bullying me</td>\n",
       "      <td>negative</td>\n",
       "    </tr>\n",
       "    <tr>\n",
       "      <th>3</th>\n",
       "      <td>leave me alone</td>\n",
       "      <td>negative</td>\n",
       "    </tr>\n",
       "    <tr>\n",
       "      <th>4</th>\n",
       "      <td>Sons of ****,</td>\n",
       "      <td>negative</td>\n",
       "    </tr>\n",
       "  </tbody>\n",
       "</table>\n",
       "</div>"
      ],
      "text/plain": [
       "                         selected_text sentiment\n",
       "0  I`d have responded, if I were going   neutral\n",
       "1                             Sooo SAD  negative\n",
       "2                          bullying me  negative\n",
       "3                       leave me alone  negative\n",
       "4                        Sons of ****,  negative"
      ]
     },
     "execution_count": 7,
     "metadata": {},
     "output_type": "execute_result"
    }
   ],
   "source": [
    "# Remove unnecessary columns\n",
    "tweet_train = tweet_train.drop(['textID', 'text'], axis=1)\n",
    "tweet_train.head()"
   ]
  },
  {
   "cell_type": "code",
   "execution_count": 8,
   "metadata": {},
   "outputs": [
    {
     "name": "stdout",
     "output_type": "stream",
     "text": [
      "<class 'pandas.core.frame.DataFrame'>\n",
      "RangeIndex: 27481 entries, 0 to 27480\n",
      "Data columns (total 2 columns):\n",
      " #   Column         Non-Null Count  Dtype \n",
      "---  ------         --------------  ----- \n",
      " 0   selected_text  27480 non-null  object\n",
      " 1   sentiment      27481 non-null  object\n",
      "dtypes: object(2)\n",
      "memory usage: 429.5+ KB\n"
     ]
    }
   ],
   "source": [
    "tweet_train.info()"
   ]
  },
  {
   "cell_type": "code",
   "execution_count": 9,
   "metadata": {},
   "outputs": [
    {
     "name": "stdout",
     "output_type": "stream",
     "text": [
      "<class 'pandas.core.frame.DataFrame'>\n",
      "Int64Index: 27480 entries, 0 to 27480\n",
      "Data columns (total 2 columns):\n",
      " #   Column         Non-Null Count  Dtype \n",
      "---  ------         --------------  ----- \n",
      " 0   selected_text  27480 non-null  object\n",
      " 1   sentiment      27480 non-null  object\n",
      "dtypes: object(2)\n",
      "memory usage: 644.1+ KB\n"
     ]
    }
   ],
   "source": [
    "# Drop null rows with null\n",
    "tweet_train = tweet_train.dropna()\n",
    "tweet_train.info()"
   ]
  },
  {
   "cell_type": "markdown",
   "metadata": {},
   "source": [
    "### Data Cleaning"
   ]
  },
  {
   "cell_type": "code",
   "execution_count": 10,
   "metadata": {},
   "outputs": [],
   "source": [
    "def data_cleaning(text):\n",
    "    \"\"\"\n",
    "    Function to perform below tasks:\n",
    "    - Remove URL\n",
    "    - Remove emails\n",
    "    - Remove newline characters\n",
    "    - Remove single quotes\n",
    "    \"\"\"\n",
    "    # Remove URLs\n",
    "    url = re.compile(r'https?://\\S+|www\\.\\S+')\n",
    "    textc = url.sub(r'', text)\n",
    "    \n",
    "    # Remove Emails\n",
    "    textc = re.sub('\\S*@\\S*\\s?', '', textc)\n",
    "    \n",
    "    # Remove newline\n",
    "    textc = re.sub('\\s+', ' ', textc)\n",
    "    \n",
    "    # Remove single quotes\n",
    "    textc = re.sub(\"\\'\", \"\", textc)\n",
    "    \n",
    "    return textc"
   ]
  },
  {
   "cell_type": "code",
   "execution_count": 11,
   "metadata": {},
   "outputs": [
    {
     "data": {
      "text/plain": [
       "[' - some shameless plugging for the best Rangers forum on earth',\n",
       " 'fun',\n",
       " 'Soooo high',\n",
       " 'Both of you',\n",
       " 'Wow... u just became cooler.',\n",
       " 'as much as i love to be hopeful, i reckon the chances are minimal =P i`m never gonna get my cake and stuff',\n",
       " 'like',\n",
       " 'DANGERously',\n",
       " 'lost',\n",
       " 'test test from the LG enV2']"
      ]
     },
     "execution_count": 11,
     "metadata": {},
     "output_type": "execute_result"
    }
   ],
   "source": [
    "text_list=[]\n",
    "\n",
    "# Split selected_text to list\n",
    "df_list = tweet_train['selected_text'].values.tolist()\n",
    "\n",
    "# Clean the texts\n",
    "for t in range(len(df_list)):\n",
    "    text_list.append(data_cleaning(df_list[t]))\n",
    "\n",
    "list(text_list[5:15])"
   ]
  },
  {
   "cell_type": "code",
   "execution_count": 12,
   "metadata": {},
   "outputs": [
    {
     "name": "stdout",
     "output_type": "stream",
     "text": [
      "[['some', 'shameless', 'plugging', 'for', 'the', 'best', 'rangers', 'forum', 'on', 'earth'], ['fun'], ['soooo', 'high'], ['both', 'of', 'you'], ['wow', 'just', 'became', 'cooler'], ['as', 'much', 'as', 'love', 'to', 'be', 'hopeful', 'reckon', 'the', 'chances', 'are', 'minimal', 'never', 'gonna', 'get', 'my', 'cake', 'and', 'stuff'], ['like'], ['dangerously'], ['lost'], ['test', 'test', 'from', 'the', 'lg', 'env']]\n"
     ]
    }
   ],
   "source": [
    "def data_word(sent):\n",
    "    \"\"\"\n",
    "    Function to split sentences to words \n",
    "    \"\"\"\n",
    "    for s in sent:\n",
    "        yield(gensim.utils.simple_preprocess(str(s), deacc=True))\n",
    "    \n",
    "    return\n",
    "\n",
    "text_word = list(data_word(text_list))\n",
    "\n",
    "print(text_word[5:15])"
   ]
  },
  {
   "cell_type": "markdown",
   "metadata": {},
   "source": [
    "### Detokenization"
   ]
  },
  {
   "cell_type": "code",
   "execution_count": 13,
   "metadata": {},
   "outputs": [
    {
     "name": "stdout",
     "output_type": "stream",
     "text": [
      "['some shameless plugging for the best rangers forum on earth', 'fun', 'soooo high', 'both of you', 'wow just became cooler', 'as much as love to be hopeful reckon the chances are minimal never gonna get my cake and stuff', 'like', 'dangerously', 'lost', 'test test from the lg env']\n"
     ]
    }
   ],
   "source": [
    "def detok(text_word):\n",
    "    return \n",
    "\n",
    "text_detok = []\n",
    "\n",
    "for i in range(len(text_word)):\n",
    "    text_detok.append(TreebankWordDetokenizer().detokenize(text_word[i]))\n",
    "\n",
    "\n",
    "print(text_detok[5:15])"
   ]
  },
  {
   "cell_type": "code",
   "execution_count": 14,
   "metadata": {},
   "outputs": [],
   "source": [
    "# Convert detokenized text to array\n",
    "text_ar = np.array(text_detok)"
   ]
  },
  {
   "cell_type": "markdown",
   "metadata": {},
   "source": [
    "### Label Encoding"
   ]
  },
  {
   "cell_type": "code",
   "execution_count": 15,
   "metadata": {},
   "outputs": [
    {
     "data": {
      "text/plain": [
       "array([[1., 0., 0.],\n",
       "       [0., 1., 0.],\n",
       "       [0., 1., 0.],\n",
       "       ...,\n",
       "       [0., 0., 1.],\n",
       "       [0., 0., 1.],\n",
       "       [1., 0., 0.]], dtype=float32)"
      ]
     },
     "execution_count": 15,
     "metadata": {},
     "output_type": "execute_result"
    }
   ],
   "source": [
    "# Convert categorical values to float\n",
    "\n",
    "label = np.array(tweet_train['sentiment'])\n",
    "num = []\n",
    "for i in range(len(label)):\n",
    "    if label[i] == 'neutral':\n",
    "        num.append(0)\n",
    "    if label[i] == 'negative':\n",
    "        num.append(1)\n",
    "    if label[i] == 'positive':\n",
    "        num.append(2)\n",
    "\n",
    "num = np.array(num)\n",
    "\n",
    "label = tf.keras.utils.to_categorical(num, 3, dtype=\"float32\")\n",
    "label"
   ]
  },
  {
   "cell_type": "markdown",
   "metadata": {},
   "source": [
    "### Sequencing and Splitting"
   ]
  },
  {
   "cell_type": "code",
   "execution_count": 16,
   "metadata": {},
   "outputs": [],
   "source": [
    "from keras.models import Sequential\n",
    "from keras import layers\n",
    "from keras.optimizers import RMSprop,Adam\n",
    "from keras.preprocessing.text import Tokenizer\n",
    "from keras.preprocessing.sequence import pad_sequences\n",
    "from keras import regularizers\n",
    "from keras import backend as K\n",
    "from keras.callbacks import ModelCheckpoint"
   ]
  },
  {
   "cell_type": "code",
   "execution_count": 17,
   "metadata": {},
   "outputs": [
    {
     "name": "stdout",
     "output_type": "stream",
     "text": [
      "[[   0    0    0 ...   68  146   41]\n",
      " [   0    0    0 ...    0  397   65]\n",
      " [   0    0    0 ...    0    0   11]\n",
      " ...\n",
      " [   0    0    0 ...  372   10    3]\n",
      " [   0    0    0 ...   24  542    4]\n",
      " [   0    0    0 ... 2424  199  657]]\n"
     ]
    }
   ],
   "source": [
    "max_words = 5000\n",
    "max_len = 200\n",
    "\n",
    "tokenize = Tokenizer(num_words=max_words)\n",
    "tokenize.fit_on_texts(text_ar)\n",
    "seq = tokenize.texts_to_sequences(text_ar)\n",
    "tweet = pad_sequences(seq, maxlen=max_len)\n",
    "print(tweet)"
   ]
  },
  {
   "cell_type": "markdown",
   "metadata": {},
   "source": [
    "### Model Building"
   ]
  },
  {
   "cell_type": "code",
   "execution_count": 18,
   "metadata": {},
   "outputs": [
    {
     "name": "stdout",
     "output_type": "stream",
     "text": [
      "20610 6870 20610 6870\n"
     ]
    }
   ],
   "source": [
    "# Split the data\n",
    "\n",
    "X_train, X_test, y_train, y_test = train_test_split(tweet,label, random_state=0)\n",
    "print (len(X_train),len(X_test),len(y_train),len(y_test))"
   ]
  },
  {
   "cell_type": "markdown",
   "metadata": {},
   "source": [
    "#### Single LSTM"
   ]
  },
  {
   "cell_type": "code",
   "execution_count": 19,
   "metadata": {},
   "outputs": [
    {
     "name": "stdout",
     "output_type": "stream",
     "text": [
      "WARNING:tensorflow:`period` argument is deprecated. Please use `save_freq` to specify the frequency in number of batches seen.\n",
      "645/645 [==============================] - 35s 53ms/step - loss: 0.9119 - accuracy: 0.5929 - val_loss: 0.6578 - val_accuracy: 0.7182\n",
      "\n",
      "Epoch 00001: val_accuracy improved from -inf to 0.71820, saving model to mod1.hdf5\n"
     ]
    }
   ],
   "source": [
    "mod1 = Sequential()\n",
    "mod1.add(layers.Embedding(max_words, 20))\n",
    "mod1.add(layers.LSTM(15, dropout=0.5))\n",
    "mod1.add(layers.Dense(3, activation='softmax'))\n",
    "\n",
    "mod1.compile(optimizer='rmsprop', loss='categorical_crossentropy', metrics=['accuracy'])\n",
    "\n",
    "ckpt1 = ModelCheckpoint('mod1.hdf5', monitor='val_accuracy', verbose=1, save_best_only=True, mode='auto', \n",
    "                       period=1, save_weights_only=False)\n",
    "\n",
    "hist = mod1.fit(X_train, y_train, epochs=1, validation_data=(X_test, y_test), callbacks=[ckpt1])"
   ]
  },
  {
   "cell_type": "code",
   "execution_count": 20,
   "metadata": {},
   "outputs": [
    {
     "name": "stdout",
     "output_type": "stream",
     "text": [
      "Model: \"sequential\"\n",
      "_________________________________________________________________\n",
      "Layer (type)                 Output Shape              Param #   \n",
      "=================================================================\n",
      "embedding (Embedding)        (None, None, 20)          100000    \n",
      "_________________________________________________________________\n",
      "lstm (LSTM)                  (None, 15)                2160      \n",
      "_________________________________________________________________\n",
      "dense (Dense)                (None, 3)                 48        \n",
      "=================================================================\n",
      "Total params: 102,208\n",
      "Trainable params: 102,208\n",
      "Non-trainable params: 0\n",
      "_________________________________________________________________\n"
     ]
    }
   ],
   "source": [
    "mod1.summary()"
   ]
  },
  {
   "cell_type": "markdown",
   "metadata": {},
   "source": [
    "#### Bidirectional LSTM"
   ]
  },
  {
   "cell_type": "code",
   "execution_count": 21,
   "metadata": {},
   "outputs": [
    {
     "name": "stdout",
     "output_type": "stream",
     "text": [
      "WARNING:tensorflow:`period` argument is deprecated. Please use `save_freq` to specify the frequency in number of batches seen.\n",
      "645/645 [==============================] - 52s 76ms/step - loss: 0.8849 - accuracy: 0.5927 - val_loss: 0.6527 - val_accuracy: 0.7274\n",
      "\n",
      "Epoch 00001: val_accuracy improved from -inf to 0.72737, saving model to mod2.hdf5\n"
     ]
    }
   ],
   "source": [
    "mod2 = Sequential()\n",
    "mod2.add(layers.Embedding(max_words, 40, input_length=max_len))\n",
    "mod2.add(layers.Bidirectional(layers.LSTM(20, dropout=0.6)))\n",
    "mod2.add(layers.Dense(3, activation='softmax'))\n",
    "mod2.compile(optimizer='rmsprop', loss='categorical_crossentropy', metrics=['accuracy'])\n",
    "\n",
    "ckpt2 = ModelCheckpoint('mod2.hdf5', monitor='val_accuracy', verbose=1, save_best_only=True, mode='auto', \n",
    "                       period=1, save_weights_only=False)\n",
    "\n",
    "hist = mod2.fit(X_train, y_train, epochs=1, validation_data=(X_test, y_test), callbacks=[ckpt2])"
   ]
  },
  {
   "cell_type": "code",
   "execution_count": 22,
   "metadata": {},
   "outputs": [
    {
     "name": "stdout",
     "output_type": "stream",
     "text": [
      "Model: \"sequential_1\"\n",
      "_________________________________________________________________\n",
      "Layer (type)                 Output Shape              Param #   \n",
      "=================================================================\n",
      "embedding_1 (Embedding)      (None, 200, 40)           200000    \n",
      "_________________________________________________________________\n",
      "bidirectional (Bidirectional (None, 40)                9760      \n",
      "_________________________________________________________________\n",
      "dense_1 (Dense)              (None, 3)                 123       \n",
      "=================================================================\n",
      "Total params: 209,883\n",
      "Trainable params: 209,883\n",
      "Non-trainable params: 0\n",
      "_________________________________________________________________\n"
     ]
    }
   ],
   "source": [
    "mod2.summary()"
   ]
  },
  {
   "cell_type": "markdown",
   "metadata": {},
   "source": [
    "#### 1D CNN"
   ]
  },
  {
   "cell_type": "code",
   "execution_count": 23,
   "metadata": {},
   "outputs": [
    {
     "name": "stdout",
     "output_type": "stream",
     "text": [
      "WARNING:tensorflow:`period` argument is deprecated. Please use `save_freq` to specify the frequency in number of batches seen.\n",
      "645/645 [==============================] - 6s 8ms/step - loss: 1.2703 - acc: 0.4789 - val_loss: 0.8991 - val_acc: 0.6150\n",
      "WARNING:tensorflow:Can save best model only with val_accuracy available, skipping.\n"
     ]
    }
   ],
   "source": [
    "mod3 = Sequential()\n",
    "mod3.add(layers.Embedding(max_words, 40, input_length=max_len))\n",
    "mod3.add(layers.Conv1D(20, 6, activation='relu', kernel_regularizer=regularizers.l1_l2(l1=2e-3, l2=2e-3), \n",
    "                       bias_regularizer=regularizers.l2(2e-3)))\n",
    "mod3.add(layers.MaxPooling1D(5))\n",
    "mod3.add(layers.Conv1D(20, 6, activation='relu', kernel_regularizer=regularizers.l1_l2(l1=2e-3, l2=2e-3), \n",
    "                       bias_regularizer=regularizers.l2(2e-3)))\n",
    "mod3.add(layers.GlobalMaxPooling1D())\n",
    "mod3.add(layers.Dense(3, activation='softmax'))\n",
    "mod3.compile(optimizer='rmsprop', loss='categorical_crossentropy', metrics=['acc'])\n",
    "\n",
    "ckpt3 = ModelCheckpoint('mod3.hdf5', monitor='val_accuracy', verbose=1, save_best_only=True, mode='auto', \n",
    "                       period=1, save_weights_only=False)\n",
    "\n",
    "hist = mod3.fit(X_train, y_train, epochs=1, validation_data=(X_test, y_test), callbacks=[ckpt3])"
   ]
  },
  {
   "cell_type": "code",
   "execution_count": 24,
   "metadata": {},
   "outputs": [
    {
     "name": "stdout",
     "output_type": "stream",
     "text": [
      "Model: \"sequential_2\"\n",
      "_________________________________________________________________\n",
      "Layer (type)                 Output Shape              Param #   \n",
      "=================================================================\n",
      "embedding_2 (Embedding)      (None, 200, 40)           200000    \n",
      "_________________________________________________________________\n",
      "conv1d (Conv1D)              (None, 195, 20)           4820      \n",
      "_________________________________________________________________\n",
      "max_pooling1d (MaxPooling1D) (None, 39, 20)            0         \n",
      "_________________________________________________________________\n",
      "conv1d_1 (Conv1D)            (None, 34, 20)            2420      \n",
      "_________________________________________________________________\n",
      "global_max_pooling1d (Global (None, 20)                0         \n",
      "_________________________________________________________________\n",
      "dense_2 (Dense)              (None, 3)                 63        \n",
      "=================================================================\n",
      "Total params: 207,303\n",
      "Trainable params: 207,303\n",
      "Non-trainable params: 0\n",
      "_________________________________________________________________\n"
     ]
    }
   ],
   "source": [
    "mod3.summary()"
   ]
  },
  {
   "cell_type": "markdown",
   "metadata": {},
   "source": [
    "**We can see that Bidirectional RNN model showed highest accuracy. Lets validate the model.**"
   ]
  },
  {
   "cell_type": "code",
   "execution_count": 25,
   "metadata": {},
   "outputs": [],
   "source": [
    "predict=mod2.predict(X_test)"
   ]
  },
  {
   "cell_type": "code",
   "execution_count": 26,
   "metadata": {},
   "outputs": [
    {
     "data": {
      "text/plain": [
       "<AxesSubplot:>"
      ]
     },
     "execution_count": 26,
     "metadata": {},
     "output_type": "execute_result"
    },
    {
     "data": {
      "image/png": "[encoded data removed]",
      "text/plain": [
       "<Figure size 432x288 with 2 Axes>"
      ]
     },
     "metadata": {
      "needs_background": "light"
     },
     "output_type": "display_data"
    }
   ],
   "source": [
    "# Plot confusion matrix\n",
    "\n",
    "c = confusion_matrix(y_test.argmax(axis=1), np.around(predict, decimals=0).argmax(axis=1))\n",
    "matrix = pd.DataFrame(c, index=['Neutral', 'Negative', 'Positive'], columns=['Neutral', 'Negative', 'Positive'])\n",
    "\n",
    "matrix = matrix.astype('float')/matrix.sum(axis=1)[:, np.newaxis]\n",
    "\n",
    "sns.heatmap(matrix, annot=True, annot_kws={\"size\": 15})\n"
   ]
  },
  {
   "cell_type": "markdown",
   "metadata": {},
   "source": [
    "### Sentiment analysis on COVID-19 Tweet Dataset"
   ]
  },
  {
   "cell_type": "code",
   "execution_count": 27,
   "metadata": {},
   "outputs": [
    {
     "name": "stdout",
     "output_type": "stream",
     "text": [
      "<class 'pandas.core.frame.DataFrame'>\n",
      "RangeIndex: 69718 entries, 0 to 69717\n",
      "Data columns (total 16 columns):\n",
      " #   Column            Non-Null Count  Dtype \n",
      "---  ------            --------------  ----- \n",
      " 0   id                69718 non-null  int64 \n",
      " 1   user_name         69718 non-null  object\n",
      " 2   user_location     53891 non-null  object\n",
      " 3   user_description  64846 non-null  object\n",
      " 4   user_created      69718 non-null  object\n",
      " 5   user_followers    69718 non-null  int64 \n",
      " 6   user_friends      69718 non-null  int64 \n",
      " 7   user_favourites   69718 non-null  int64 \n",
      " 8   user_verified     69718 non-null  bool  \n",
      " 9   date              69718 non-null  object\n",
      " 10  text              69718 non-null  object\n",
      " 11  hashtags          54904 non-null  object\n",
      " 12  source            69599 non-null  object\n",
      " 13  retweets          69718 non-null  int64 \n",
      " 14  favorites         69718 non-null  int64 \n",
      " 15  is_retweet        69718 non-null  bool  \n",
      "dtypes: bool(2), int64(6), object(8)\n",
      "memory usage: 7.6+ MB\n"
     ]
    }
   ],
   "source": [
    "raw_df.info()"
   ]
  },
  {
   "cell_type": "code",
   "execution_count": 28,
   "metadata": {},
   "outputs": [
    {
     "data": {
      "text/plain": [
       "['Does anyone have any useful advice/guidance for whether the COVID vaccine is safe whilst breastfeeding?… ',\n",
       " 'it is a bit sad to claim the fame for success of #vaccination on patriotic competition between USA, Canada, UK and… ',\n",
       " 'There have not been many bright days in 2020 but here are some of the best 1. #BidenHarris winning #Election2020… ',\n",
       " 'Covid vaccine; You getting it? #CovidVaccine #covid19 #PfizerBioNTech #Moderna',\n",
       " '#CovidVaccine States will start getting #COVID19Vaccine Monday, #US says #pakustv #NYC #Healthcare #GlobalGoals… ',\n",
       " 'while deaths are closing in on the 300,000 mark... millions of people wait #PfizerBioNTech #Vaccine ! - The first U… ',\n",
       " '#COVID19 #CovidVaccine #vaccine #Corona #PfizerBioNTech #bbcnews #NYTimes #BBCNews Best wishes to the US… ',\n",
       " 'The agency also released new information for health care providers and for patients as the US shipped millions of d… ',\n",
       " 'For all the women and healthcare providers who have been asking about the safety of the #PfizerBioNTech… ',\n",
       " '\"Expect 145 sites across all the states to receive vaccine on Monday, another 425 sites on Tuesday,\" said the offic… ']"
      ]
     },
     "execution_count": 28,
     "metadata": {},
     "output_type": "execute_result"
    }
   ],
   "source": [
    "text_list=[]\n",
    "\n",
    "# Split selected_text to list\n",
    "df_list = raw_df['text'].values.tolist()\n",
    "\n",
    "# Clean the texts\n",
    "for t in range(len(df_list)):\n",
    "    text_list.append(data_cleaning(df_list[t]))\n",
    "\n",
    "list(text_list[5:15])"
   ]
  },
  {
   "cell_type": "code",
   "execution_count": 29,
   "metadata": {},
   "outputs": [
    {
     "name": "stdout",
     "output_type": "stream",
     "text": [
      "[['does', 'anyone', 'have', 'any', 'useful', 'advice', 'guidance', 'for', 'whether', 'the', 'covid', 'vaccine', 'is', 'safe', 'whilst', 'breastfeeding'], ['it', 'is', 'bit', 'sad', 'to', 'claim', 'the', 'fame', 'for', 'success', 'of', 'vaccination', 'on', 'patriotic', 'competition', 'between', 'usa', 'canada', 'uk', 'and'], ['there', 'have', 'not', 'been', 'many', 'bright', 'days', 'in', 'but', 'here', 'are', 'some', 'of', 'the', 'best', 'bidenharris', 'winning', 'election'], ['covid', 'vaccine', 'you', 'getting', 'it', 'covidvaccine', 'covid', 'pfizerbiontech', 'moderna'], ['covidvaccine', 'states', 'will', 'start', 'getting', 'covid', 'vaccine', 'monday', 'us', 'says', 'pakustv', 'nyc', 'healthcare', 'globalgoals'], ['while', 'deaths', 'are', 'closing', 'in', 'on', 'the', 'mark', 'millions', 'of', 'people', 'wait', 'pfizerbiontech', 'vaccine', 'the', 'first'], ['covid', 'covidvaccine', 'vaccine', 'corona', 'pfizerbiontech', 'bbcnews', 'nytimes', 'bbcnews', 'best', 'wishes', 'to', 'the', 'us'], ['the', 'agency', 'also', 'released', 'new', 'information', 'for', 'health', 'care', 'providers', 'and', 'for', 'patients', 'as', 'the', 'us', 'shipped', 'millions', 'of'], ['for', 'all', 'the', 'women', 'and', 'healthcare', 'providers', 'who', 'have', 'been', 'asking', 'about', 'the', 'safety', 'of', 'the', 'pfizerbiontech'], ['expect', 'sites', 'across', 'all', 'the', 'states', 'to', 'receive', 'vaccine', 'on', 'monday', 'another', 'sites', 'on', 'tuesday', 'said', 'the', 'offic']]\n"
     ]
    }
   ],
   "source": [
    "text_word = list(data_word(text_list))\n",
    "\n",
    "print(text_word[5:15])"
   ]
  },
  {
   "cell_type": "markdown",
   "metadata": {},
   "source": [
    "### Detokenization"
   ]
  },
  {
   "cell_type": "code",
   "execution_count": 30,
   "metadata": {},
   "outputs": [
    {
     "name": "stdout",
     "output_type": "stream",
     "text": [
      "['does anyone have any useful advice guidance for whether the covid vaccine is safe whilst breastfeeding', 'it is bit sad to claim the fame for success of vaccination on patriotic competition between usa canada uk and', 'there have not been many bright days in but here are some of the best bidenharris winning election', 'covid vaccine you getting it covidvaccine covid pfizerbiontech moderna', 'covidvaccine states will start getting covid vaccine monday us says pakustv nyc healthcare globalgoals', 'while deaths are closing in on the mark millions of people wait pfizerbiontech vaccine the first', 'covid covidvaccine vaccine corona pfizerbiontech bbcnews nytimes bbcnews best wishes to the us', 'the agency also released new information for health care providers and for patients as the us shipped millions of', 'for all the women and healthcare providers who have been asking about the safety of the pfizerbiontech', 'expect sites across all the states to receive vaccine on monday another sites on tuesday said the offic']\n"
     ]
    }
   ],
   "source": [
    "text_detok = []\n",
    "\n",
    "for i in range(len(text_word)):\n",
    "    text_detok.append(TreebankWordDetokenizer().detokenize(text_word[i]))\n",
    "\n",
    "\n",
    "print(text_detok[5:15])"
   ]
  },
  {
   "cell_type": "code",
   "execution_count": 31,
   "metadata": {},
   "outputs": [],
   "source": [
    "# Convert detokenized text to array\n",
    "text_ar = np.array(text_detok)"
   ]
  },
  {
   "cell_type": "markdown",
   "metadata": {},
   "source": [
    "### Add an empty sentiment column to the dataset"
   ]
  },
  {
   "cell_type": "code",
   "execution_count": 32,
   "metadata": {},
   "outputs": [],
   "source": [
    "raw_df[\"Sentiments\"] = np.nan"
   ]
  },
  {
   "cell_type": "code",
   "execution_count": 33,
   "metadata": {},
   "outputs": [
    {
     "data": {
      "text/plain": [
       "69718"
      ]
     },
     "execution_count": 33,
     "metadata": {},
     "output_type": "execute_result"
    }
   ],
   "source": [
    "len(text_list)"
   ]
  },
  {
   "cell_type": "markdown",
   "metadata": {},
   "source": [
    "### Apply best model (Bidirection RNN) to the dataset"
   ]
  },
  {
   "cell_type": "code",
   "execution_count": 34,
   "metadata": {},
   "outputs": [
    {
     "name": "stdout",
     "output_type": "stream",
     "text": [
      "0 %\n",
      "10 %\n",
      "20 %\n",
      "30 %\n",
      "40 %\n",
      "50 %\n",
      "60 %\n",
      "70 %\n",
      "80 %\n",
      "90 %\n",
      "100 %\n"
     ]
    }
   ],
   "source": [
    "sentiment = ['Neutral','Negative','Positive']\n",
    "for l in range(len(text_list)):\n",
    "    seq = tokenize.texts_to_sequences([text_list[l]])\n",
    "    tweet = pad_sequences(seq, maxlen=max_len)\n",
    "    raw_df[\"Sentiments\"][l] = sentiment[np.around(mod2.predict(tweet), decimals=0).argmax(axis=1)[0]]\n",
    "    if (l % 6970 == 0):\n",
    "        perc = l/len(text_list) * 100\n",
    "        f_perc = \"{:.0f}\".format(perc)\n",
    "        print(f_perc,\"%\")\n"
   ]
  },
  {
   "cell_type": "markdown",
   "metadata": {},
   "source": [
    "**Applying model to dataset takes long time, So saved final dataset to a .CSV file. I will be using this CSV file for further analysis..**"
   ]
  },
  {
   "cell_type": "code",
   "execution_count": 35,
   "metadata": {},
   "outputs": [],
   "source": [
    "final_df = raw_df\n",
    "raw_df.to_csv('raw_df.csv', index=False)"
   ]
  },
  {
   "cell_type": "code",
   "execution_count": 36,
   "metadata": {},
   "outputs": [
    {
     "data": {
      "text/html": [
       "<div>\n",
       "<style scoped>\n",
       "    .dataframe tbody tr th:only-of-type {\n",
       "        vertical-align: middle;\n",
       "    }\n",
       "\n",
       "    .dataframe tbody tr th {\n",
       "        vertical-align: top;\n",
       "    }\n",
       "\n",
       "    .dataframe thead th {\n",
       "        text-align: right;\n",
       "    }\n",
       "</style>\n",
       "<table border=\"1\" class=\"dataframe\">\n",
       "  <thead>\n",
       "    <tr style=\"text-align: right;\">\n",
       "      <th></th>\n",
       "      <th>text</th>\n",
       "      <th>Sentiments</th>\n",
       "    </tr>\n",
       "  </thead>\n",
       "  <tbody>\n",
       "    <tr>\n",
       "      <th>0</th>\n",
       "      <td>Same folks said daikon paste could treat a cytokine storm #PfizerBioNTech https://t.co/xeHhIMg1kF</td>\n",
       "      <td>Neutral</td>\n",
       "    </tr>\n",
       "    <tr>\n",
       "      <th>1</th>\n",
       "      <td>While the world has been on the wrong side of history this year, hopefully, the biggest vaccination effort we've ev… https://t.co/dlCHrZjkhm</td>\n",
       "      <td>Neutral</td>\n",
       "    </tr>\n",
       "    <tr>\n",
       "      <th>2</th>\n",
       "      <td>#coronavirus #SputnikV #AstraZeneca #PfizerBioNTech #Moderna #Covid_19 Russian vaccine is created to last 2-4 years… https://t.co/ieYlCKBr8P</td>\n",
       "      <td>Neutral</td>\n",
       "    </tr>\n",
       "    <tr>\n",
       "      <th>3</th>\n",
       "      <td>Facts are immutable, Senator, even when you're not ethically sturdy enough to acknowledge them. (1) You were born i… https://t.co/jqgV18kch4</td>\n",
       "      <td>Neutral</td>\n",
       "    </tr>\n",
       "    <tr>\n",
       "      <th>4</th>\n",
       "      <td>Explain to me again why we need a vaccine @BorisJohnson @MattHancock #whereareallthesickpeople #PfizerBioNTech… https://t.co/KxbSRoBEHq</td>\n",
       "      <td>Neutral</td>\n",
       "    </tr>\n",
       "    <tr>\n",
       "      <th>5</th>\n",
       "      <td>Does anyone have any useful advice/guidance for whether the COVID vaccine is safe whilst breastfeeding?… https://t.co/EifsyQoeKN</td>\n",
       "      <td>Neutral</td>\n",
       "    </tr>\n",
       "    <tr>\n",
       "      <th>6</th>\n",
       "      <td>it is a bit sad to claim the fame for success of #vaccination on patriotic competition between USA, Canada, UK and… https://t.co/IfMrAyGyTP</td>\n",
       "      <td>Neutral</td>\n",
       "    </tr>\n",
       "    <tr>\n",
       "      <th>7</th>\n",
       "      <td>There have not been many bright days in 2020 but here are some of the best \\n1. #BidenHarris winning #Election2020… https://t.co/77u4f8XXfx</td>\n",
       "      <td>Neutral</td>\n",
       "    </tr>\n",
       "    <tr>\n",
       "      <th>8</th>\n",
       "      <td>Covid vaccine; You getting it?\\n\\n #CovidVaccine #covid19 #PfizerBioNTech #Moderna</td>\n",
       "      <td>Negative</td>\n",
       "    </tr>\n",
       "    <tr>\n",
       "      <th>9</th>\n",
       "      <td>#CovidVaccine \\n\\nStates will start getting #COVID19Vaccine Monday, #US says \\n#pakustv #NYC #Healthcare #GlobalGoals… https://t.co/MksOvBvs5w</td>\n",
       "      <td>Neutral</td>\n",
       "    </tr>\n",
       "    <tr>\n",
       "      <th>10</th>\n",
       "      <td>while deaths are closing in on the 300,000 mark... millions of people wait #PfizerBioNTech #Vaccine !\\n-\\nThe first U… https://t.co/uQ3A2f7SVP</td>\n",
       "      <td>Neutral</td>\n",
       "    </tr>\n",
       "    <tr>\n",
       "      <th>11</th>\n",
       "      <td>@cnnbrk #COVID19 #CovidVaccine #vaccine #Corona   #PfizerBioNTech #bbcnews #NYTimes #BBCNews Best wishes to the US… https://t.co/9xWmfU3LZj</td>\n",
       "      <td>Positive</td>\n",
       "    </tr>\n",
       "    <tr>\n",
       "      <th>12</th>\n",
       "      <td>The agency also released new information for health care providers and for patients as the US shipped millions of d… https://t.co/sG6BtD7jD9</td>\n",
       "      <td>Neutral</td>\n",
       "    </tr>\n",
       "    <tr>\n",
       "      <th>13</th>\n",
       "      <td>For all the women and healthcare providers who have been asking about the safety of the #PfizerBioNTech… https://t.co/ow0Pglkwte</td>\n",
       "      <td>Neutral</td>\n",
       "    </tr>\n",
       "    <tr>\n",
       "      <th>14</th>\n",
       "      <td>\"Expect 145 sites across all the states to receive vaccine on Monday, another 425 sites on Tuesday,\" said the offic… https://t.co/HiUVYJzOBY</td>\n",
       "      <td>Neutral</td>\n",
       "    </tr>\n",
       "  </tbody>\n",
       "</table>\n",
       "</div>"
      ],
      "text/plain": [
       "                                                                                                                                              text  \\\n",
       "0                                                Same folks said daikon paste could treat a cytokine storm #PfizerBioNTech https://t.co/xeHhIMg1kF   \n",
       "1     While the world has been on the wrong side of history this year, hopefully, the biggest vaccination effort we've ev… https://t.co/dlCHrZjkhm   \n",
       "2     #coronavirus #SputnikV #AstraZeneca #PfizerBioNTech #Moderna #Covid_19 Russian vaccine is created to last 2-4 years… https://t.co/ieYlCKBr8P   \n",
       "3     Facts are immutable, Senator, even when you're not ethically sturdy enough to acknowledge them. (1) You were born i… https://t.co/jqgV18kch4   \n",
       "4          Explain to me again why we need a vaccine @BorisJohnson @MattHancock #whereareallthesickpeople #PfizerBioNTech… https://t.co/KxbSRoBEHq   \n",
       "5                 Does anyone have any useful advice/guidance for whether the COVID vaccine is safe whilst breastfeeding?… https://t.co/EifsyQoeKN   \n",
       "6      it is a bit sad to claim the fame for success of #vaccination on patriotic competition between USA, Canada, UK and… https://t.co/IfMrAyGyTP   \n",
       "7      There have not been many bright days in 2020 but here are some of the best \\n1. #BidenHarris winning #Election2020… https://t.co/77u4f8XXfx   \n",
       "8                                                               Covid vaccine; You getting it?\\n\\n #CovidVaccine #covid19 #PfizerBioNTech #Moderna   \n",
       "9   #CovidVaccine \\n\\nStates will start getting #COVID19Vaccine Monday, #US says \\n#pakustv #NYC #Healthcare #GlobalGoals… https://t.co/MksOvBvs5w   \n",
       "10  while deaths are closing in on the 300,000 mark... millions of people wait #PfizerBioNTech #Vaccine !\\n-\\nThe first U… https://t.co/uQ3A2f7SVP   \n",
       "11     @cnnbrk #COVID19 #CovidVaccine #vaccine #Corona   #PfizerBioNTech #bbcnews #NYTimes #BBCNews Best wishes to the US… https://t.co/9xWmfU3LZj   \n",
       "12    The agency also released new information for health care providers and for patients as the US shipped millions of d… https://t.co/sG6BtD7jD9   \n",
       "13                For all the women and healthcare providers who have been asking about the safety of the #PfizerBioNTech… https://t.co/ow0Pglkwte   \n",
       "14    \"Expect 145 sites across all the states to receive vaccine on Monday, another 425 sites on Tuesday,\" said the offic… https://t.co/HiUVYJzOBY   \n",
       "\n",
       "   Sentiments  \n",
       "0     Neutral  \n",
       "1     Neutral  \n",
       "2     Neutral  \n",
       "3     Neutral  \n",
       "4     Neutral  \n",
       "5     Neutral  \n",
       "6     Neutral  \n",
       "7     Neutral  \n",
       "8    Negative  \n",
       "9     Neutral  \n",
       "10    Neutral  \n",
       "11   Positive  \n",
       "12    Neutral  \n",
       "13    Neutral  \n",
       "14    Neutral  "
      ]
     },
     "execution_count": 36,
     "metadata": {},
     "output_type": "execute_result"
    }
   ],
   "source": [
    "tweet_sent = pd.read_csv('raw_df.csv')\n",
    "\n",
    "pd.set_option('display.max_colwidth', None)\n",
    "tweet_sent[[\"text\", \"Sentiments\"]].head(15)"
   ]
  },
  {
   "cell_type": "code",
   "execution_count": 37,
   "metadata": {},
   "outputs": [
    {
     "data": {
      "text/plain": [
       "Sentiments\n",
       "Negative     7456\n",
       "Neutral     60925\n",
       "Positive     1337\n",
       "Name: id, dtype: int64"
      ]
     },
     "execution_count": 37,
     "metadata": {},
     "output_type": "execute_result"
    }
   ],
   "source": [
    "# Sentiment Counts\n",
    "tweet_sent.groupby('Sentiments')['id'].nunique()"
   ]
  },
  {
   "cell_type": "code",
   "execution_count": null,
   "metadata": {},
   "outputs": [],
   "source": []
  }
 ],
 "metadata": {
  "kernelspec": {
   "display_name": "Python 3",
   "language": "python",
   "name": "python3"
  },
  "language_info": {
   "codemirror_mode": {
    "name": "ipython",
    "version": 3
   },
   "file_extension": ".py",
   "mimetype": "text/x-python",
   "name": "python",
   "nbconvert_exporter": "python",
   "pygments_lexer": "ipython3",
   "version": "3.7.4"
  }
 },
 "nbformat": 4,
 "nbformat_minor": 2
}
